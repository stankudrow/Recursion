{
 "cells": [
  {
   "cell_type": "markdown",
   "metadata": {},
   "source": [
    "# The nature of recursion\n",
    "\n",
    "In this tutorial we get acquainted with recursion. It may be difficult to understand first, may be harder to get used to it, but once it is deeply conceived, it becomes not only a powerful tool, but also a new way of thinking.\n",
    "\n",
    "All examples and explantions will be given in the context of Python programming language. The language is irrelevant, key principles are vital."
   ]
  },
  {
   "cell_type": "markdown",
   "metadata": {},
   "source": [
    "## Table of contents\n",
    "\n",
    "- [Recognition](#recognition)\n",
    "\n",
    "- [Definition](#definition)\n",
    "\n",
    "- [Recursion in Computer Science](#recursion-in-computer-science)\n",
    "\n",
    "- [Stack](#stack)\n",
    "\n",
    "- [Examples of Recursion](#examples-of-recursion)\n",
    "\n",
    "    - [Factorial](#factorial)\n",
    "    - [Arithmetic progression]()\n",
    "\n",
    "- [Homework](#homework)\n",
    "\n",
    "- [References](#references)"
   ]
  },
  {
   "cell_type": "markdown",
   "metadata": {},
   "source": [
    "Attention! This note import the [`pytest`](https://docs.pytest.org/en/7.4.x/) testing package. It can be installed, for example, via `pip3 install pytest` command."
   ]
  },
  {
   "cell_type": "code",
   "execution_count": 7,
   "metadata": {},
   "outputs": [],
   "source": [
    "from contextlib import nullcontext as does_not_raise\n",
    "\n",
    "import pytest\n",
    "import ipytest\n",
    "\n",
    "# https://github.com/chmp/ipytest\n",
    "ipytest.autoconfig()"
   ]
  },
  {
   "cell_type": "markdown",
   "metadata": {},
   "source": [
    "### Recognition"
   ]
  },
  {
   "cell_type": "markdown",
   "metadata": {},
   "source": [
    "Look at the following picture:\n",
    "\n",
    "![Recursion that recurs](./recursion_that_recurs.jpg)\n",
    "\n",
    "There is a certain self-repeating element, in this case, a kind of bracket with the inscription “Recursion it recurs\" in the middle of it and so on, decreasing in size and moving away to the center of perspective, perhaps indefinitely."
   ]
  },
  {
   "cell_type": "markdown",
   "metadata": {},
   "source": [
    "Consider another example, the [Sierpiński triangle](https://en.wikipedia.org/wiki/Sierpi%C5%84ski_triangle):\n",
    "\n",
    "![Sierpiński triangle](./Sierpinski_triangle_evolution.png)\n",
    "\n",
    "The evolution of a Sierpiński triangle:\n",
    "\n",
    "1. there is an equilateral triangle;\n",
    "\n",
    "2. the midpoints of opposite sides are connected in such a way as to form an inner triangle which is \"upside-down\" with respect to the original triangle;\n",
    "\n",
    "3. the same action is repeated for every smaller versions of the original triangle and so forth...\n",
    "\n",
    "Again, self-repetition is striking: we see repeating triangles formed via the same procedure."
   ]
  },
  {
   "cell_type": "markdown",
   "metadata": {},
   "source": [
    "Finally, a jolly good example of a recursive Russian doll:\n",
    "\n",
    "![Recursive Russian Doll](./recursive_russian_doll.png)"
   ]
  },
  {
   "cell_type": "markdown",
   "metadata": {},
   "source": [
    "Recursion is also found in [reccurence relations](https://en.wikipedia.org/wiki/Recurrence_relation). A reccurence relation is an equation that defines the nth term of a sequence of numbers as a combination of its previous terms. Some of canonical examples are:\n",
    "\n",
    "1. the [factorial](https://en.wikipedia.org/wiki/Factorial) of a non-negative integer **n**: `n! = n * (n - 1)!`, where 0! = 1! = 1;\n",
    "\n",
    "2. the [Fibonacci sequence](https://en.wikipedia.org/wiki/Fibonacci_sequence): `F(n) = F(n - 1) + F(n - 2)`, where F(0) = 0 and F(1) = 1;\n",
    "\n",
    "Examples on the above examples:\n",
    "\n",
    "1. the factorial of 4:\n",
    "\n",
    "    - 4! = 4 * 3!\n",
    "    - 3! = 3 * 2!\n",
    "    - 2! = 2 * 1!\n",
    "    - 1! = 1 and we stop\n",
    "    - therefore, 4! = 4 * 3 * 2 * 1 = 24.\n",
    "\n",
    "2. the fourth (or maybe the fifth because of zero-index start) Fibonacci number\n",
    "\n",
    "    - F(4) = F(4 - 1) + F(4 - 2) = F(3) + F(2)\n",
    "    - F(3) = F(3 - 1) + F(3 - 2) = F(2) + F(1)\n",
    "    - F(2) = F(2 - 1) + F(2 - 2) = F(1) + F(0)\n",
    "    - we know, that F(0) = 0 and F(1) = 1 and we stop\n",
    "    - so, F(2) = 1 + 0 = 1\n",
    "    - and F(3) = F(2) + F(1) = 1 + 1 = 2\n",
    "    - therefore, F(4) = 2 + 1 = 3\n",
    "\n",
    "The definition of the factorial of a non-negative integer relies on a self-definition. To compute an `n!` we need to multiply `n` by `(n - 1)!`, but the latter term is the factorial by nature. The same case is for a number from the Fibonacci sequence when n > 1.\n",
    "\n",
    "One major detail for both examples above: the computation of `n!` or `F(n)` requires a finite procedure, in other words, the case where to stop unwinding the [recursive definition](https://en.wikipedia.org/wiki/Recursive_definition). Otherwise, no stop, no final result. However, **the recursion is not constrained to be finite**. Moreover, [fractals](https://en.wikipedia.org/wiki/Fractal) are potentially infinite structures like this one:\n",
    "\n",
    "![A fractal](./fractal_example.jpeg)"
   ]
  },
  {
   "cell_type": "markdown",
   "metadata": {},
   "source": [
    "### Definition"
   ]
  },
  {
   "cell_type": "markdown",
   "metadata": {},
   "source": [
    "What all the previous examples have in common? Repetition is striking. But if it is just repetition, why calling it recursion? The above examples were about recursion and repeating patterns are (maybe) easy to spot. So we can say something *\"if recursion, then repetition\"*. Certainly it’s not entirely reliable to judge recursion based on only three examples, but for now there are conclusions that everyone can draw their own.\n",
    "\n",
    "For these concepts to be synonymous, which in our case means finding out their equivalence, it is necessary to evaluate the truth of the following proposition: *\"if repetition, then recursion\"*. But why this? Because a statement like \"if A, then B\" means that A is a subset of B, which means whenever an element is from A, it is automatically from B. When both \"if A, then B\" and \"if B, then A\" statements are true, it means that A = B. Why again? Mathematics, set theory branch, or something like that can be drawn from books on logic.\n",
    "\n",
    "Consider the following counterexample:\n",
    "\n",
    "1. initially, we have a letter, let's pick up \"R\"\n",
    "2. then just repeating it -> R R\n",
    "3. again -> R R R\n",
    "4. and so on...\n",
    "\n",
    "Can we say for sure that this was the case of recursion? Repetition, yes, recursion, not everything is so clear here. The trick part here is that we can obtain such a sequence with a recursive algorithm, or you may be so used to recursion that even here you can see it if you want."
   ]
  },
  {
   "cell_type": "markdown",
   "metadata": {},
   "source": [
    "Instead of defining the recursion now, let's take another strategy:\n",
    "\n",
    "1. for now we can live without a formal definition\n",
    "\n",
    "2. we play with recursion and gradually reveal its features - starting from recognition, remaining on intuitive understanding, expanding the number of ways of explaining what the recursion is and making our way through less fuzzy definitions in favour of more clear ones\n",
    "\n",
    "I like this approach for its successive nature which may lead to a certain success (I hope so). This can help us not to reinvent the wheel and save enough time and energy without being strayed away. If you are still impatient or discontent, this [Recursion](https://en.wikipedia.org/wiki/Recursion) article is a not bad start.\n",
    "\n",
    "If we cannot rely on repetition, let's guess that an important feature of recursion is **self-reference**."
   ]
  },
  {
   "cell_type": "markdown",
   "metadata": {},
   "source": [
    "### Recursion in Computer Science"
   ]
  },
  {
   "cell_type": "markdown",
   "metadata": {},
   "source": [
    "In computer science, a class of objects or methods exhibits recursive behavior when it can be defined by two properties:\n",
    "\n",
    "- a *base case* (or cases) - a terminating scenario that does not use recursion to produce and answer\n",
    "\n",
    "- a *recursive step* - a set of rules that redices all successive cases towards the base case\n",
    "\n",
    "In case of factorials:\n",
    "\n",
    "- base cases are 0! = 1 or 1! = 1 -> no need to recur, the answer can be produced with returning these values\n",
    "\n",
    "- the recursive step is to take n and multiply it by the factorial of (n - 1) and by this we are getting closer to the base case.\n",
    "\n",
    "In computer science the recursion is something that is meant to be finite, **in general, the recursion does not have to be finite**. Because the resource of a computer are limited, infinite kinds of recursion are impractical. Moreover, the following simple example without any base case will cause an error."
   ]
  },
  {
   "cell_type": "code",
   "execution_count": 2,
   "metadata": {},
   "outputs": [
    {
     "ename": "RecursionError",
     "evalue": "maximum recursion depth exceeded",
     "output_type": "error",
     "traceback": [
      "\u001b[0;31m---------------------------------------------------------------------------\u001b[0m",
      "\u001b[0;31mRecursionError\u001b[0m                            Traceback (most recent call last)",
      "Cell \u001b[0;32mIn[2], line 7\u001b[0m\n\u001b[1;32m      4\u001b[0m     recur_unstoppably()\n\u001b[1;32m      6\u001b[0m \u001b[38;5;66;03m# invoking the function and...crash\u001b[39;00m\n\u001b[0;32m----> 7\u001b[0m \u001b[43mrecur_unstoppably\u001b[49m\u001b[43m(\u001b[49m\u001b[43m)\u001b[49m\n",
      "Cell \u001b[0;32mIn[2], line 4\u001b[0m, in \u001b[0;36mrecur_unstoppably\u001b[0;34m()\u001b[0m\n\u001b[1;32m      2\u001b[0m \u001b[38;5;250m\u001b[39m\u001b[38;5;124;03m\"\"\"This function has no base case.\"\"\"\u001b[39;00m\n\u001b[1;32m      3\u001b[0m \u001b[38;5;66;03m# self-reference = calling the defined function itself\u001b[39;00m\n\u001b[0;32m----> 4\u001b[0m \u001b[43mrecur_unstoppably\u001b[49m\u001b[43m(\u001b[49m\u001b[43m)\u001b[49m\n",
      "Cell \u001b[0;32mIn[2], line 4\u001b[0m, in \u001b[0;36mrecur_unstoppably\u001b[0;34m()\u001b[0m\n\u001b[1;32m      2\u001b[0m \u001b[38;5;250m\u001b[39m\u001b[38;5;124;03m\"\"\"This function has no base case.\"\"\"\u001b[39;00m\n\u001b[1;32m      3\u001b[0m \u001b[38;5;66;03m# self-reference = calling the defined function itself\u001b[39;00m\n\u001b[0;32m----> 4\u001b[0m \u001b[43mrecur_unstoppably\u001b[49m\u001b[43m(\u001b[49m\u001b[43m)\u001b[49m\n",
      "    \u001b[0;31m[... skipping similar frames: recur_unstoppably at line 4 (2970 times)]\u001b[0m\n",
      "Cell \u001b[0;32mIn[2], line 4\u001b[0m, in \u001b[0;36mrecur_unstoppably\u001b[0;34m()\u001b[0m\n\u001b[1;32m      2\u001b[0m \u001b[38;5;250m\u001b[39m\u001b[38;5;124;03m\"\"\"This function has no base case.\"\"\"\u001b[39;00m\n\u001b[1;32m      3\u001b[0m \u001b[38;5;66;03m# self-reference = calling the defined function itself\u001b[39;00m\n\u001b[0;32m----> 4\u001b[0m \u001b[43mrecur_unstoppably\u001b[49m\u001b[43m(\u001b[49m\u001b[43m)\u001b[49m\n",
      "\u001b[0;31mRecursionError\u001b[0m: maximum recursion depth exceeded"
     ]
    }
   ],
   "source": [
    "def recur_unstoppably():\n",
    "    \"\"\"This function has no base case.\"\"\"\n",
    "    # self-reference = calling the defined function itself\n",
    "    recur_unstoppably()\n",
    "\n",
    "# invoking the function and...crash\n",
    "recur_unstoppably()"
   ]
  },
  {
   "cell_type": "markdown",
   "metadata": {},
   "source": [
    "Down as expected. This is the case of [stack overflow](https://stackoverflow.com/questions/26158/how-does-a-stack-overflow-occur-and-how-do-you-prevent-it). In computer science, a [stack](https://en.wikipedia.org/wiki/Stack_(abstract_data_type)) is an [abstract data type](https://en.wikipedia.org/wiki/Abstract_data_type) (ADT). When an ADT incarnates into a concreate implementation it is called a data structure (DS).\n",
    "\n",
    "Looks perplexing, here comes a simple example on [natural numbers](https://en.wikipedia.org/wiki/Natural_number):\n",
    "\n",
    "- nature -> numbers that are naturally arise when counting things - they are integral and successive\n",
    "\n",
    "- possible values -> 1, 2, 3, ... (but there are natural numbers with zero - you may refer to this [page](https://en.wikipedia.org/wiki/Natural_number#Notation)) - all positive or non-negative integer numbers\n",
    "\n",
    "- possible operations: addition and multiplication on any two natural number produce a natural number. Subtraction is not always possible: if a - b and a < b, then we are out of range. The division is from the same row when getting fractions and so on.\n",
    "\n",
    "So, when grouping data values specified by a set of possible values and allowed operation and/or a representation of these values, we form a data type, in our example a data type of natural numbers. The more abstract (detail-independent) the definition is, the more this data type is abstract. Since the mathematics is a very abstract science, our natural numbers data type can be referred to as an abstract data type because they fit into a mathematical model of natural numbers.\n",
    "\n",
    "As a homework, you can implement the data type of natural numbers and by this have a data structure for this type."
   ]
  },
  {
   "cell_type": "markdown",
   "metadata": {},
   "source": [
    "### Stack"
   ]
  },
  {
   "cell_type": "markdown",
   "metadata": {},
   "source": [
    "As mentioned in the previous section, a [stack](https://en.wikipedia.org/wiki/Stack_(abstract_data_type)) is an abstract data type. It serves as a collection of elements described as **last in, first out** (LIFO) or **first in, last out** (FILO) with the following operations:\n",
    "\n",
    "- Necessary operations:\n",
    "\n",
    "    - `push`, which adds an alement to the collection\n",
    "\n",
    "    - `pop`, which removes the most recently added element\n",
    "\n",
    "- Extra operations:\n",
    "\n",
    "    - `peek`, which returns the last added value without modifying the stack\n",
    "\n",
    "By this we have defined a stack as an abstract data type: the essence (LIFO/FILO collection) and possible operations (push/pop as primary and some extra for usability). We don't need to enumerate possible values because they are just items, meaning objects. In Python there is a built-in [list](https://docs.python.org/3/tutorial/datastructures.html#more-on-lists) data structure and can be perfectly [used as a stack](https://docs.python.org/3/tutorial/datastructures.html#using-lists-as-stacks). Only for demonstrative purpose and as a starter for those who would like to implement natural numbers data structure, an author's version of a stack data structure is defined below."
   ]
  },
  {
   "cell_type": "code",
   "execution_count": 6,
   "metadata": {},
   "outputs": [],
   "source": [
    "from typing import Any  # type hints\n",
    "\n",
    "\n",
    "class Stack:\n",
    "    \"\"\"A class is a user-defined (data) type.\n",
    "\n",
    "    A class defines the set of operations (methods)\n",
    "    and variables (states) that will be inherent to\n",
    "    the instances (objects) of this class.\n",
    "    \"\"\"\n",
    "\n",
    "    # this is a class variable\n",
    "    # class variables are shared among all instances of a class\n",
    "    answer = 42\n",
    "\n",
    "    def __init__(self):\n",
    "        # _stack is a variable of a concrete instance (self)\n",
    "        # a prefix underscore signifies that _stack variable is private\n",
    "        # a private variable is not meant to be accessed from the outer code\n",
    "        # in Python, there is no such access level ensurance\n",
    "        self._stack = []  # a list under the hood\n",
    "\n",
    "    def __len__(self) -> int:\n",
    "        \"\"\"This is an implementational detail.\n",
    "\n",
    "        This double-underscore (dunder) method\n",
    "        allows to pass the instance of this class\n",
    "        as a parametre for len() builtin function.\n",
    "\n",
    "        This is an extension for Stack data structure.\n",
    "        \"\"\"\n",
    "        return len(self._stack)\n",
    "    \n",
    "    def __str__(self) -> str:\n",
    "        \"\"\"Returns the string representation of a Stack instance.\n",
    "\n",
    "        This is also for convenience as __len__(self) method.\n",
    "        \"\"\"\n",
    "        cls_name = self.__class__.__name__\n",
    "        return f\"{cls_name}({self._stack})\"\n",
    "\n",
    "    def push(self, item: Any):\n",
    "        self._stack.append(item)\n",
    "\n",
    "    def pop(self) -> Any:\n",
    "        return self._stack.pop()\n",
    "    \n",
    "    @property\n",
    "    def peek(self) -> Any:\n",
    "        \"\"\"A propery in Python is a method.\n",
    "\n",
    "        But it is \n",
    "          that behaves as if it were a variable\"\"\"\n",
    "        return self._stack[-1]"
   ]
  },
  {
   "cell_type": "markdown",
   "metadata": {},
   "source": [
    "Let's play and test it. If you have read about Python lists, you know that a stack is a poorer data structure...or more restrict if you like it better."
   ]
  },
  {
   "cell_type": "code",
   "execution_count": 9,
   "metadata": {},
   "outputs": [
    {
     "name": "stdout",
     "output_type": "stream",
     "text": [
      "Demonstrating class variables\n",
      "stk1 (42) and stk2 (42)\n",
      "\n",
      "Demonstrating instance variables\n",
      "stk1 (['hello']) and stk2 (['world'])\n",
      "\n",
      "Stack(['hello', 'world']), len = 2\n",
      "Stack([]), len = 0\n"
     ]
    }
   ],
   "source": [
    "stk1 = Stack()\n",
    "stk2 = Stack()\n",
    "\n",
    "print(\"Demonstrating class variables\")\n",
    "print(f\"stk1 ({stk1.answer}) and stk2 ({stk2.answer})\\n\")\n",
    "\n",
    "stk1.push(\"hello\")\n",
    "stk2.push(\"world\")\n",
    "\n",
    "print(\"Demonstrating instance variables\")\n",
    "print(f\"stk1 ({stk1._stack}) and stk2 ({stk2._stack})\\n\")\n",
    "\n",
    "stk1.push(stk2.pop())\n",
    "print(f\"{stk1}, len = {len(stk1)}\")  # __str__ and __len__ methods\n",
    "print(f\"{stk2}, len = {len(stk2)}\")"
   ]
  },
  {
   "cell_type": "markdown",
   "metadata": {},
   "source": [
    "### Examples of Recursion"
   ]
  },
  {
   "cell_type": "markdown",
   "metadata": {},
   "source": [
    "Factorial"
   ]
  },
  {
   "cell_type": "code",
   "execution_count": 1,
   "metadata": {},
   "outputs": [],
   "source": [
    "def _validate_non_negative_integer(number: int) -> None:\n",
    "    \"\"\"Validates a number to be a non-negative integer.\"\"\"\n",
    "\n",
    "    if not isinstance(number, int):\n",
    "        raise TypeError(f\"{number} is not int\")\n",
    "    if number < 0:\n",
    "        raise ValueError(f\"{number} < 0\")"
   ]
  },
  {
   "cell_type": "code",
   "execution_count": 2,
   "metadata": {},
   "outputs": [],
   "source": [
    "def recursive_factorial(number: int) -> int:\n",
    "    \"\"\"Returns the factorial of a non-negative integer.\"\"\"\n",
    "\n",
    "    _validate_non_negative_integer(number)\n",
    "    # base case\n",
    "    if number in (0, 1):\n",
    "        return 1\n",
    "    # recursive step\n",
    "    return number * recursive_factorial(number - 1)"
   ]
  },
  {
   "cell_type": "markdown",
   "metadata": {},
   "source": [
    "Testing the recursive version of the factorial."
   ]
  },
  {
   "cell_type": "code",
   "execution_count": 11,
   "metadata": {},
   "outputs": [
    {
     "name": "stdout",
     "output_type": "stream",
     "text": [
      "\u001b[32m.\u001b[0m\u001b[32m.\u001b[0m\u001b[32m.\u001b[0m\u001b[32m.\u001b[0m\u001b[32m.\u001b[0m\u001b[32m                                                                                        [100%]\u001b[0m\n",
      "\u001b[32m\u001b[32m\u001b[1m5 passed\u001b[0m\u001b[32m in 0.01s\u001b[0m\u001b[0m\n"
     ]
    }
   ],
   "source": [
    "%%ipytest\n",
    "\n",
    "# https://github.com/chmp/ipytest\n",
    "@pytest.mark.parametrize(\n",
    "    (\"number\", \"answer\", \"expectation\"),\n",
    "    [\n",
    "        (-1, None, pytest.raises(ValueError)),\n",
    "        (0, 1, does_not_raise()),\n",
    "        (1, 1, does_not_raise()),\n",
    "        (4, 24, does_not_raise()),\n",
    "        (5.0, 120, pytest.raises(TypeError)),\n",
    "    ]\n",
    ")\n",
    "def test_factorial(number, answer, expectation):\n",
    "    with expectation:\n",
    "        result = recursive_factorial(number)\n",
    "        answer == result"
   ]
  },
  {
   "cell_type": "markdown",
   "metadata": {},
   "source": [
    "You can add `print()` statements in the `recursive_factorial` function to \"textualise\" the function calls - it may be illustrative enough."
   ]
  },
  {
   "cell_type": "markdown",
   "metadata": {},
   "source": [
    "### Homework"
   ]
  },
  {
   "cell_type": "markdown",
   "metadata": {},
   "source": [
    "If you like homework, consider writing a recursive implementation of finding `nth` number from the Fibonacci sequence."
   ]
  },
  {
   "cell_type": "markdown",
   "metadata": {},
   "source": [
    "### References\n",
    "\n",
    "- [WikiPedia -> Recursion](https://en.wikipedia.org/wiki/Recursion)\n",
    "\n",
    "- [YouTube -> Recursion for Beginners: A Beginner's Guide to Recursion - Al Sweigart](https://www.youtube.com/watch?v=AfBqVVKg4GE)\n",
    "\n",
    "- [YouTube -> Recursion - V. Anton Spraul (Think Like a Programmer)](https://www.youtube.com/watch?v=oKndim5-G94)\n",
    "\n",
    "- [YouTube -> FreeCodeCamp - Recursion in Programming](https://www.youtube.com/watch?v=IJDJ0kBx2LM)\n",
    "\n",
    "- [enjoyalgorithms.com -> Fundamentals of Recursion in Programming](https://www.enjoyalgorithms.com/blog/recursion-explained-how-recursion-works-in-programming)\n",
    "\n",
    "- [educative.io -> Recursion: A Quick Guide for Software Engineers](https://www.educative.io/blog/recursion)\n",
    "\n",
    "- [WikiPedia -> Stack](https://en.wikipedia.org/wiki/Stack_(abstract_data_type))\n",
    "\n",
    "- [Stack Overflow -> Running Pytest inside a Jupyter notebook](https://stackoverflow.com/questions/41304311/running-pytest-test-functions-inside-a-jupyter-notebook)\n",
    "\n",
    "- [GitHub -> IPytest](https://github.com/chmp/ipytest)\n",
    "\n",
    "- [Pytest -> Examples -> Parametrising tests](https://docs.pytest.org/en/7.1.x/example/parametrize.html)"
   ]
  }
 ],
 "metadata": {
  "kernelspec": {
   "display_name": "Python 3",
   "language": "python",
   "name": "python3"
  },
  "language_info": {
   "codemirror_mode": {
    "name": "ipython",
    "version": 3
   },
   "file_extension": ".py",
   "mimetype": "text/x-python",
   "name": "python",
   "nbconvert_exporter": "python",
   "pygments_lexer": "ipython3",
   "version": "3.10.12"
  }
 },
 "nbformat": 4,
 "nbformat_minor": 2
}
