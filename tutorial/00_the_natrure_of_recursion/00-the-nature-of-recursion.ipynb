{
 "cells": [
  {
   "cell_type": "markdown",
   "metadata": {},
   "source": [
    "# The nature of recursion\n",
    "\n",
    "In this tutorial we get acquainted with recursion. It may be difficult to understand first, may be harder to get used to it, but once it is deeply conceived, it becomes not only a powerful tool, but also a new way of thinking.\n",
    "\n",
    "All examples and explantions will be given in the context of Python programming language. The language is irrelevant, key principles are vital."
   ]
  },
  {
   "cell_type": "markdown",
   "metadata": {},
   "source": [
    "## Table of contents\n",
    "\n",
    "- [Recognition](#recognition)\n",
    "\n",
    "- [Definition](#definition)\n",
    "\n",
    "- [Examples of Recursion](#examples-of-recursion)\n",
    "\n",
    "- [References](#references)"
   ]
  },
  {
   "cell_type": "markdown",
   "metadata": {},
   "source": [
    "Attention! This note import the [`pytest`](https://docs.pytest.org/en/7.4.x/) testing package. It can be installed, for example, via `pip3 install pytest` command."
   ]
  },
  {
   "cell_type": "code",
   "execution_count": 7,
   "metadata": {},
   "outputs": [],
   "source": [
    "from contextlib import nullcontext as does_not_raise\n",
    "\n",
    "import pytest\n",
    "import ipytest\n",
    "\n",
    "# https://github.com/chmp/ipytest\n",
    "ipytest.autoconfig()"
   ]
  },
  {
   "cell_type": "markdown",
   "metadata": {},
   "source": [
    "### Recognition"
   ]
  },
  {
   "cell_type": "markdown",
   "metadata": {},
   "source": [
    "Look at the following picture:\n",
    "\n",
    "![Recursion that recurs](./recursion_that_recurs.jpg)\n",
    "\n",
    "We can see that there is a certain self-repeating element, in this case, a kind of bracket with the inscription “Recursion ше кусгкы” in the middle of it and so on, decreasing in size and moving away to the center of perspective, perhaps indefinitely."
   ]
  },
  {
   "cell_type": "markdown",
   "metadata": {},
   "source": [
    "Consider another example, the [Sierpiński triangle](https://en.wikipedia.org/wiki/Sierpi%C5%84ski_triangle):\n",
    "\n",
    "![Sierpiński triangle](./Sierpinski_triangle_evolution.png)\n",
    "\n",
    "The evolution of a Sierpiński triangle:\n",
    "\n",
    "1. we have a triangle (for simplicity, an equilateral one) - here the base is at the bottom and a vertex on top;\n",
    "\n",
    "2. lines are drawn to connect the centres of each side to form an inner upside-down triangle;\n",
    "\n",
    "3. the same action is repeated for every \"vertex-up\" smaller triangles and so on...\n",
    "\n",
    "Again, self-repetition is striking: we see repeating triangles formed via the same procedure."
   ]
  },
  {
   "cell_type": "markdown",
   "metadata": {},
   "source": [
    "Finally, a jolly good example of a recursive Russian doll:\n",
    "\n",
    "![Recursive Russian Doll](./recursive_russian_doll.png)"
   ]
  },
  {
   "cell_type": "markdown",
   "metadata": {},
   "source": [
    "Recursion is also found in [reccurence relations](https://en.wikipedia.org/wiki/Recurrence_relation). A reccurence relation is an equation that defines the nth of a sequence of numbers as a combination of its previous terms. Some of canonical examples are:\n",
    "\n",
    "1. the [factorial](https://en.wikipedia.org/wiki/Factorial) of a non-negative integer **n**: `n! = n * (n - 1)!`, where `0! = 1! = 1`;\n",
    "\n",
    "2. the [Fibonacci sequence](https://en.wikipedia.org/wiki/Fibonacci_sequence): `F(n) = F(n - 1) + F(n - 2)`, where `F(0) = 0` and `F(1) = 1`;\n",
    "\n",
    "3. ...and so forth.\n",
    "\n",
    "Examples:\n",
    "\n",
    "1. the factorial of 4:\n",
    "\n",
    "    - 4! = 4 * 3!\n",
    "    - 3! = 3 * 2!\n",
    "    - 2! = 2 * 1!\n",
    "    - eventually, 1! = 1\n",
    "    - therefore, 4! = 4 * 3 * 2 * 1 = 24.\n",
    "\n",
    "2. the fourth (or maybe the fifth because of zero-index start) Fibonacci number\n",
    "\n",
    "    - F(4) = F(4 - 1) + F(4 - 2) = F(3) + F(2)\n",
    "    - F(3) = F(2) + F(1) and F(2) = F(1) + F(0)\n",
    "    - as we know, F(0) = 0 and F(1) = 1\n",
    "    - so, F(2) = 1 + 0 = 1 and F(3) = 1 + 1 = 2\n",
    "    - therefore, F(4) = 2 + 1 = 3\n",
    "\n",
    "The definition of the factorial of a non-negative integer relies on a self-definition. To compute an `n!` we need to multiply `n` by `(n - 1)!`, but the latter is the factorial, but the immediately preceeding number. The same case for a number from the Fibonacci sequence.\n",
    "\n",
    "One major detail for both examples above: the computation of `n!` or `F(n)` requires a finite procedure, in other words, the case where to stop unwinding the [recursive definition](https://en.wikipedia.org/wiki/Recursive_definition). Otherwise, no stop, no final result. However, **the recursion is not constrained to be finite**. Moreover, [fractals](https://en.wikipedia.org/wiki/Fractal) are potentially infinite structures like this one:\n",
    "\n",
    "![A fractal](./fractal_example.jpeg)"
   ]
  },
  {
   "cell_type": "markdown",
   "metadata": {},
   "source": [
    "### Definition"
   ]
  },
  {
   "cell_type": "markdown",
   "metadata": {},
   "source": [
    "Let's unite what can be understood from the previous chapter in explanations and then definitions. It is (or may be) clear that:\n",
    "\n",
    "- kfkldfmklg\n",
    "\n",
    "- fjkgfdlk\n",
    "\n",
    "- fjgkdnlk"
   ]
  },
  {
   "cell_type": "markdown",
   "metadata": {},
   "source": [
    "The above allows to think the recursion as:\n",
    "\n",
    "- defining a problem in terms of itself\n",
    "\n",
    "- solving a problem "
   ]
  },
  {
   "cell_type": "markdown",
   "metadata": {},
   "source": [
    "In computer science the problems ...finite..computable...we need base case"
   ]
  },
  {
   "cell_type": "code",
   "execution_count": null,
   "metadata": {},
   "outputs": [],
   "source": []
  },
  {
   "cell_type": "markdown",
   "metadata": {},
   "source": [
    "### Examples of Recursion"
   ]
  },
  {
   "cell_type": "markdown",
   "metadata": {},
   "source": [
    "Factorial"
   ]
  },
  {
   "cell_type": "code",
   "execution_count": 1,
   "metadata": {},
   "outputs": [],
   "source": [
    "def _validate_non_negative_integer(number: int) -> None:\n",
    "    \"\"\"Validates a number to be a non-negative integer.\"\"\"\n",
    "\n",
    "    if not isinstance(number, int):\n",
    "        raise TypeError(f\"{number} is not int\")\n",
    "    if number < 0:\n",
    "        raise ValueError(f\"{number} < 0\")"
   ]
  },
  {
   "cell_type": "code",
   "execution_count": 2,
   "metadata": {},
   "outputs": [],
   "source": [
    "def recursive_factorial(number: int) -> int:\n",
    "    \"\"\"Returns the factorial of a non-negative integer.\"\"\"\n",
    "\n",
    "    _validate_non_negative_integer(number)\n",
    "    if number in (0, 1):\n",
    "        return 1\n",
    "    return number * recursive_factorial(number - 1)"
   ]
  },
  {
   "cell_type": "markdown",
   "metadata": {},
   "source": [
    "Testing the recursive version of the factorial."
   ]
  },
  {
   "cell_type": "code",
   "execution_count": 11,
   "metadata": {},
   "outputs": [
    {
     "name": "stdout",
     "output_type": "stream",
     "text": [
      "\u001b[32m.\u001b[0m\u001b[32m.\u001b[0m\u001b[32m.\u001b[0m\u001b[32m.\u001b[0m\u001b[32m.\u001b[0m\u001b[32m                                                                                        [100%]\u001b[0m\n",
      "\u001b[32m\u001b[32m\u001b[1m5 passed\u001b[0m\u001b[32m in 0.01s\u001b[0m\u001b[0m\n"
     ]
    }
   ],
   "source": [
    "%%ipytest\n",
    "\n",
    "# https://github.com/chmp/ipytest\n",
    "@pytest.mark.parametrize(\n",
    "    (\"number\", \"answer\", \"expectation\"),\n",
    "    [\n",
    "        (-1, None, pytest.raises(ValueError)),\n",
    "        (0, 1, does_not_raise()),\n",
    "        (1, 1, does_not_raise()),\n",
    "        (4, 24, does_not_raise()),\n",
    "        (5.0, 120, pytest.raises(TypeError)),\n",
    "    ]\n",
    ")\n",
    "def test_factorial(number, answer, expectation):\n",
    "    with expectation:\n",
    "        result = recursive_factorial(number)\n",
    "        answer == result"
   ]
  },
  {
   "cell_type": "markdown",
   "metadata": {},
   "source": [
    "You can add `print()` statements in the `recursive_factorial` function to \"textualise\" the function calls - it may be illustrative enough."
   ]
  },
  {
   "cell_type": "markdown",
   "metadata": {},
   "source": [
    "### References\n",
    "\n",
    "- [YouTube -> Recursion for Beginners: A Beginner's Guide to Recursion - Al Sweigart](https://www.youtube.com/watch?v=AfBqVVKg4GE)\n",
    "\n",
    "- [YouTube -> Recursion - V. Anton Spraul (Think Like a Programmer)](https://www.youtube.com/watch?v=oKndim5-G94)\n",
    "\n",
    "- [enjoyalgorithms.com -> Fundamentals of Recursion in Programming](https://www.enjoyalgorithms.com/blog/recursion-explained-how-recursion-works-in-programming)\n",
    "\n",
    "- [educative.io -> Recursion: A Quick Guide for Software Engineers](https://www.educative.io/blog/recursion)\n",
    "\n",
    "- [Stack Overflow -> Running Pytest inside a Jupyter notebook](https://stackoverflow.com/questions/41304311/running-pytest-test-functions-inside-a-jupyter-notebook)\n",
    "\n",
    "- [GitHub -> IPytest](https://github.com/chmp/ipytest)\n",
    "\n",
    "- [Pytest -> Examples -> Parametrising tests](https://docs.pytest.org/en/7.1.x/example/parametrize.html)"
   ]
  }
 ],
 "metadata": {
  "kernelspec": {
   "display_name": "Python 3",
   "language": "python",
   "name": "python3"
  },
  "language_info": {
   "codemirror_mode": {
    "name": "ipython",
    "version": 3
   },
   "file_extension": ".py",
   "mimetype": "text/x-python",
   "name": "python",
   "nbconvert_exporter": "python",
   "pygments_lexer": "ipython3",
   "version": "3.10.12"
  }
 },
 "nbformat": 4,
 "nbformat_minor": 2
}
