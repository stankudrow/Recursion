{
 "cells": [
  {
   "cell_type": "markdown",
   "metadata": {},
   "source": [
    "# The nature of recursion\n",
    "\n",
    "In this tutorial we get acquainted with recursion. It may be difficult to understand first, may be harder to get used to it, but once it is deeply conceived, it becomes not only a powerful tool, but also a new way of thinking.\n",
    "\n",
    "All examples and explantions will be given in the context of Python programming language. The language is irrelevant, key principles are vital."
   ]
  },
  {
   "cell_type": "markdown",
   "metadata": {},
   "source": [
    "## Table of contents\n",
    "\n",
    "- [Recognition](#recognition)\n",
    "\n",
    "- [Definition](#definition)\n",
    "\n",
    "- [Recursion in Computer Science](#recursion-in-computer-science)\n",
    "\n",
    "- [Stack](#stack)\n",
    "\n",
    "- [Examples of Recursion](#examples-of-recursion)\n",
    "\n",
    "    - [Factorial](#factorial)\n",
    "    - [The sum of numbers](#the-sum-of-numbers)\n",
    "    - [Reversing a string](#reversing-a-string)\n",
    "    - [Triangular numbers](#triangular-numbers)\n",
    "\n",
    "- [Homework](#homework)\n",
    "\n",
    "- [References](#references)\n",
    "\n",
    "- [Solutions](#solutions)"
   ]
  },
  {
   "cell_type": "markdown",
   "metadata": {},
   "source": [
    "Attention! This note import the [`pytest`](https://docs.pytest.org/en/7.4.x/) testing package. It can be installed, for example, via `pip3 install pytest` command."
   ]
  },
  {
   "cell_type": "code",
   "execution_count": 1,
   "metadata": {},
   "outputs": [],
   "source": [
    "from contextlib import nullcontext as does_not_raise\n",
    "from typing import Any\n",
    "\n",
    "import ipytest\n",
    "import pytest\n",
    "\n",
    "# https://github.com/chmp/ipytest\n",
    "ipytest.autoconfig()"
   ]
  },
  {
   "cell_type": "code",
   "execution_count": 2,
   "metadata": {},
   "outputs": [],
   "source": [
    "def validate_integer(number: Any) -> None:\n",
    "    \"\"\"Validates if an object is of int() type.\"\"\"\n",
    "\n",
    "    if not isinstance(number, int):\n",
    "        raise TypeError(f\"{number} is not int\")\n",
    "\n",
    "\n",
    "def validate_non_negative_integer(number: int) -> None:\n",
    "    \"\"\"Validates a number to be a non-negative integer.\"\"\"\n",
    "\n",
    "    validate_integer(number)\n",
    "    if number < 0:\n",
    "        raise ValueError(f\"{number} < 0\")\n",
    "\n",
    "\n",
    "def validate_positive_integer(number: Any) -> None:\n",
    "    \"\"\"Validates a number to be a positive integer.\"\"\"\n",
    "\n",
    "    validate_integer(number)\n",
    "    if number < 1:\n",
    "        raise ValueError(f\"{number} < 1\")"
   ]
  },
  {
   "cell_type": "markdown",
   "metadata": {},
   "source": [
    "### Recognition"
   ]
  },
  {
   "cell_type": "markdown",
   "metadata": {},
   "source": [
    "Look at the following picture:\n",
    "\n",
    "![Recursion that recurs](./recursion_that_recurs.jpg)\n",
    "\n",
    "There is a certain self-repeating element, in this case, a kind of bracket with the inscription “Recursion it recurs\" in the middle of it and so on, decreasing in size and moving away to the center of perspective, perhaps indefinitely."
   ]
  },
  {
   "cell_type": "markdown",
   "metadata": {},
   "source": [
    "Consider another example, the [Sierpiński triangle](https://en.wikipedia.org/wiki/Sierpi%C5%84ski_triangle):\n",
    "\n",
    "![Sierpiński triangle](./Sierpinski_triangle_evolution.png)\n",
    "\n",
    "The evolution of a Sierpiński triangle:\n",
    "\n",
    "1. there is an equilateral triangle;\n",
    "\n",
    "2. the midpoints of opposite sides are connected in such a way as to form an inner triangle which is \"upside-down\" with respect to the original triangle;\n",
    "\n",
    "3. the same action is repeated for every smaller versions of the original triangle and so forth...\n",
    "\n",
    "Again, self-repetition is striking: we see repeating triangles formed via the same procedure."
   ]
  },
  {
   "cell_type": "markdown",
   "metadata": {},
   "source": [
    "Finally, a jolly good example of a recursive Russian doll:\n",
    "\n",
    "![Recursive Russian Doll](./recursive_russian_doll.png)"
   ]
  },
  {
   "cell_type": "markdown",
   "metadata": {},
   "source": [
    "Recursion is also found in [reccurence relations](https://en.wikipedia.org/wiki/Recurrence_relation). A reccurence relation is an equation that defines the nth term of a sequence of numbers as a combination of its previous terms. Some of canonical examples are:\n",
    "\n",
    "1. the [factorial](https://en.wikipedia.org/wiki/Factorial) of a non-negative integer **n**: `n! = n * (n - 1)!`, where 0! = 1! = 1;\n",
    "\n",
    "2. the [Fibonacci sequence](https://en.wikipedia.org/wiki/Fibonacci_sequence): `F(n) = F(n - 1) + F(n - 2)`, where F(0) = 0 and F(1) = 1;\n",
    "\n",
    "Examples on the above examples:\n",
    "\n",
    "1. the factorial of 4:\n",
    "\n",
    "    - 4! = 4 * 3!\n",
    "    - 3! = 3 * 2!\n",
    "    - 2! = 2 * 1!\n",
    "    - 1! = 1 and we stop\n",
    "    - therefore, 4! = 4 * 3 * 2 * 1 = 24.\n",
    "\n",
    "2. the fourth (or maybe the fifth because of zero-index start) Fibonacci number\n",
    "\n",
    "    - F(4) = F(4 - 1) + F(4 - 2) = F(3) + F(2)\n",
    "    - F(3) = F(3 - 1) + F(3 - 2) = F(2) + F(1)\n",
    "    - F(2) = F(2 - 1) + F(2 - 2) = F(1) + F(0)\n",
    "    - we know, that F(0) = 0 and F(1) = 1 and we stop\n",
    "    - so, F(2) = 1 + 0 = 1\n",
    "    - and F(3) = F(2) + F(1) = 1 + 1 = 2\n",
    "    - therefore, F(4) = 2 + 1 = 3\n",
    "\n",
    "The definition of the factorial of a non-negative integer relies on a self-definition. To compute an `n!` we need to multiply `n` by `(n - 1)!`, but the latter term is the factorial by nature. The same case is for a number from the Fibonacci sequence when n > 1.\n",
    "\n",
    "One major detail for both examples above: the computation of `n!` or `F(n)` requires a finite procedure, in other words, the case where to stop unwinding the [recursive definition](https://en.wikipedia.org/wiki/Recursive_definition). Otherwise, no stop, no final result. However, **the recursion is not constrained to be finite**. Moreover, [fractals](https://en.wikipedia.org/wiki/Fractal) are potentially infinite structures like this one:\n",
    "\n",
    "![A fractal](./fractal_example.jpeg)"
   ]
  },
  {
   "cell_type": "markdown",
   "metadata": {},
   "source": [
    "### Definition"
   ]
  },
  {
   "cell_type": "markdown",
   "metadata": {},
   "source": [
    "What all the previous examples have in common? Repetition is striking. But if it is just repetition, why calling it recursion? The above examples were about recursion and repeating patterns are (maybe) easy to spot. So we can say something *\"if recursion, then repetition\"*. Certainly it’s not entirely reliable to judge recursion based on only three examples, but for now there are conclusions that everyone can draw their own.\n",
    "\n",
    "For these concepts to be synonymous, which in our case means finding out their equivalence, it is necessary to evaluate the truth of the following proposition: *\"if repetition, then recursion\"*. But why this? Because a statement like \"if A, then B\" means that A is a subset of B, which means whenever an element is from A, it is automatically from B. When both \"if A, then B\" and \"if B, then A\" statements are true, it means that A = B. Why again? Mathematics, set theory branch, or something like that can be drawn from books on logic.\n",
    "\n",
    "Consider the following counterexample:\n",
    "\n",
    "1. initially, we have a letter, let's pick up \"R\"\n",
    "2. then just repeating it -> R R\n",
    "3. again -> R R R\n",
    "4. and so on...\n",
    "\n",
    "Can we say for sure that this was the case of recursion? Repetition, yes, recursion, not everything is so clear here. The trick part here is that we can obtain such a sequence with a recursive algorithm, or you may be so used to recursion that even here you can see it if you want."
   ]
  },
  {
   "cell_type": "markdown",
   "metadata": {},
   "source": [
    "Instead of defining the recursion now, let's take another strategy:\n",
    "\n",
    "1. for now we can live without a formal definition\n",
    "\n",
    "2. we play with recursion and gradually reveal its features - starting from recognition, remaining on intuitive understanding, expanding the number of ways of explaining what the recursion is and making our way through less fuzzy definitions in favour of more clear ones\n",
    "\n",
    "I like this approach for its successive nature which may lead to a certain success (I hope so). This can help us not to reinvent the wheel and save enough time and energy without being strayed away. If you are still impatient or discontent, this [Recursion](https://en.wikipedia.org/wiki/Recursion) article is a not bad start."
   ]
  },
  {
   "cell_type": "markdown",
   "metadata": {},
   "source": [
    "What might look plausible or even true the properties of recursion:\n",
    "\n",
    "- recursion may be finite or infinite, so this is not a key feature, but there is a sort of iteration (they are like heads and tails, but later)\n",
    "\n",
    "- there is a repeating element that is similar to other ones - yes and they are not only to be smaller in size, the idea is they are different in non-essential characteristics so we can claim them being practically the same, or, in other words, similar;\n",
    "\n",
    "- later you may see that recursive algorithms tend to solve a problem by reducing it to similar smaller subproblems, but shrinking is only one way to go - we can choose the opposite direction towards recurring with expansion unless a certain condition is reached (see triangular numbers [example](#))\n",
    "\n",
    "In short, if we cannot say that recursion is only repetition and the given properties does not allow us to define the recursion concept, let's guess that a material feature of recursion is **self-reference** or defining itself with referencing itself."
   ]
  },
  {
   "cell_type": "markdown",
   "metadata": {},
   "source": [
    "### Recursion in Computer Science"
   ]
  },
  {
   "cell_type": "markdown",
   "metadata": {},
   "source": [
    "In computer science, a class of objects or methods exhibits recursive behavior when it can be defined by two properties:\n",
    "\n",
    "- a *base case* (or cases) - a terminating scenario that does not use recursion to produce and answer\n",
    "\n",
    "- a *recursive step* - a set of rules that redices all successive cases towards the base case\n",
    "\n",
    "In case of factorials:\n",
    "\n",
    "- base cases are 0! = 1 or 1! = 1 -> no need to recur, the answer can be produced with returning these values\n",
    "\n",
    "- the recursive step is to take n and multiply it by the factorial of (n - 1) and by this we are getting closer to the base case.\n",
    "\n",
    "In computer science the recursion is something that is meant to be finite, **in general, the recursion does not have to be finite**. Because the resource of a computer are limited, infinite kinds of recursion are impractical. Moreover, the following simple example without any base case will cause an error."
   ]
  },
  {
   "cell_type": "code",
   "execution_count": 3,
   "metadata": {},
   "outputs": [
    {
     "ename": "RecursionError",
     "evalue": "maximum recursion depth exceeded",
     "output_type": "error",
     "traceback": [
      "\u001b[0;31m---------------------------------------------------------------------------\u001b[0m",
      "\u001b[0;31mRecursionError\u001b[0m                            Traceback (most recent call last)",
      "Cell \u001b[0;32mIn[3], line 7\u001b[0m\n\u001b[1;32m      4\u001b[0m     recur_unstoppably()\n\u001b[1;32m      6\u001b[0m \u001b[38;5;66;03m# invoking the function and...crash\u001b[39;00m\n\u001b[0;32m----> 7\u001b[0m \u001b[43mrecur_unstoppably\u001b[49m\u001b[43m(\u001b[49m\u001b[43m)\u001b[49m\n",
      "Cell \u001b[0;32mIn[3], line 4\u001b[0m, in \u001b[0;36mrecur_unstoppably\u001b[0;34m()\u001b[0m\n\u001b[1;32m      2\u001b[0m \u001b[38;5;250m\u001b[39m\u001b[38;5;124;03m\"\"\"This function has no base case.\"\"\"\u001b[39;00m\n\u001b[1;32m      3\u001b[0m \u001b[38;5;66;03m# self-reference = calling the defined function itself\u001b[39;00m\n\u001b[0;32m----> 4\u001b[0m \u001b[43mrecur_unstoppably\u001b[49m\u001b[43m(\u001b[49m\u001b[43m)\u001b[49m\n",
      "Cell \u001b[0;32mIn[3], line 4\u001b[0m, in \u001b[0;36mrecur_unstoppably\u001b[0;34m()\u001b[0m\n\u001b[1;32m      2\u001b[0m \u001b[38;5;250m\u001b[39m\u001b[38;5;124;03m\"\"\"This function has no base case.\"\"\"\u001b[39;00m\n\u001b[1;32m      3\u001b[0m \u001b[38;5;66;03m# self-reference = calling the defined function itself\u001b[39;00m\n\u001b[0;32m----> 4\u001b[0m \u001b[43mrecur_unstoppably\u001b[49m\u001b[43m(\u001b[49m\u001b[43m)\u001b[49m\n",
      "    \u001b[0;31m[... skipping similar frames: recur_unstoppably at line 4 (2970 times)]\u001b[0m\n",
      "Cell \u001b[0;32mIn[3], line 4\u001b[0m, in \u001b[0;36mrecur_unstoppably\u001b[0;34m()\u001b[0m\n\u001b[1;32m      2\u001b[0m \u001b[38;5;250m\u001b[39m\u001b[38;5;124;03m\"\"\"This function has no base case.\"\"\"\u001b[39;00m\n\u001b[1;32m      3\u001b[0m \u001b[38;5;66;03m# self-reference = calling the defined function itself\u001b[39;00m\n\u001b[0;32m----> 4\u001b[0m \u001b[43mrecur_unstoppably\u001b[49m\u001b[43m(\u001b[49m\u001b[43m)\u001b[49m\n",
      "\u001b[0;31mRecursionError\u001b[0m: maximum recursion depth exceeded"
     ]
    }
   ],
   "source": [
    "def recur_unstoppably():\n",
    "    \"\"\"This function has no base case.\"\"\"\n",
    "    # self-reference = calling the defined function itself\n",
    "    recur_unstoppably()\n",
    "\n",
    "# invoking the function and...crash\n",
    "recur_unstoppably()"
   ]
  },
  {
   "cell_type": "markdown",
   "metadata": {},
   "source": [
    "Down as expected. This is the case of [stack overflow](https://stackoverflow.com/questions/26158/how-does-a-stack-overflow-occur-and-how-do-you-prevent-it). In computer science, a [stack](https://en.wikipedia.org/wiki/Stack_(abstract_data_type)) is an [abstract data type](https://en.wikipedia.org/wiki/Abstract_data_type) (ADT). When an ADT incarnates into a concreate implementation it is called a data structure (DS).\n",
    "\n",
    "Looks perplexing, here comes a simple example on [natural numbers](https://en.wikipedia.org/wiki/Natural_number):\n",
    "\n",
    "- nature -> numbers that are naturally arise when counting things - they are integral and successive\n",
    "\n",
    "- possible values -> 1, 2, 3, ... (but there are natural numbers with zero - you may refer to this [page](https://en.wikipedia.org/wiki/Natural_number#Notation)) - all positive or non-negative integer numbers\n",
    "\n",
    "- possible operations: addition and multiplication on any two natural number produce a natural number. Subtraction is not always possible: if a - b and a < b, then we are out of range. The division is from the same row when getting fractions and so on.\n",
    "\n",
    "So, when grouping data values specified by a set of possible values and allowed operation and/or a representation of these values, we form a data type, in our example a data type of natural numbers. The more abstract (detail-independent) the definition is, the more this data type is abstract. Since the mathematics is a very abstract science, our natural numbers data type can be referred to as an abstract data type because they fit into a mathematical model of natural numbers.\n",
    "\n",
    "As a homework, you can implement the data type of natural numbers and by this have a data structure for this type."
   ]
  },
  {
   "cell_type": "markdown",
   "metadata": {},
   "source": [
    "### Stack"
   ]
  },
  {
   "cell_type": "markdown",
   "metadata": {},
   "source": [
    "As mentioned in the previous section, a [stack](https://en.wikipedia.org/wiki/Stack_(abstract_data_type)) is an abstract data type. It serves as a collection of elements described as **last in, first out** (LIFO) or **first in, last out** (FILO) with the following operations:\n",
    "\n",
    "- Necessary operations:\n",
    "\n",
    "    - `push`, which adds an alement to the collection\n",
    "\n",
    "    - `pop`, which removes the most recently added element\n",
    "\n",
    "- Extra operations:\n",
    "\n",
    "    - `peek`, which returns the last added value without modifying the stack\n",
    "\n",
    "By this we have defined a stack as an abstract data type: the essence (LIFO/FILO collection) and possible operations (push/pop as primary and some extra for usability). We don't need to enumerate possible values because they are just items, meaning objects. In Python there is a built-in [list](https://docs.python.org/3/tutorial/datastructures.html#more-on-lists) data structure that can be [used as a stack](https://docs.python.org/3/tutorial/datastructures.html#using-lists-as-stacks)."
   ]
  },
  {
   "cell_type": "code",
   "execution_count": 4,
   "metadata": {},
   "outputs": [],
   "source": [
    "class Stack:\n",
    "    \"\"\"A class is a user-defined (data) type.\n",
    "\n",
    "    A class defines the set of operations (methods)\n",
    "    and variables (states) that will be inherent to\n",
    "    the instances (objects) of this class.\n",
    "    \"\"\"\n",
    "\n",
    "    # this is a class variable\n",
    "    # class variables are shared among all instances of a class\n",
    "    # here only for a demonstrative purpose\n",
    "    answer = 42\n",
    "\n",
    "    def __init__(self):\n",
    "        # _stack is a variable of a concrete instance (self)\n",
    "        # a prefix underscore signifies that _stack variable is private\n",
    "        # a private variable is not meant to be accessed from the outer code\n",
    "        # in Python, there is no such access level ensurance\n",
    "        self._stack = []  # a list under the hood\n",
    "\n",
    "    def __len__(self) -> int:\n",
    "        \"\"\"This is an implementational detail.\n",
    "\n",
    "        This double-underscore (dunder) method\n",
    "        allows to pass the instance of this class\n",
    "        as a parametre for len() builtin function.\n",
    "\n",
    "        This is an extension for Stack data structure.\n",
    "        \"\"\"\n",
    "        return len(self._stack)\n",
    "    \n",
    "    def __str__(self) -> str:\n",
    "        \"\"\"Returns the string representation of a Stack instance.\n",
    "\n",
    "        This is also for convenience as __len__(self) method.\n",
    "        \"\"\"\n",
    "        cls_name = self.__class__.__name__\n",
    "        return f\"{cls_name}({self._stack})\"\n",
    "\n",
    "    def push(self, item: Any):\n",
    "        self._stack.append(item)\n",
    "\n",
    "    def pop(self) -> Any:\n",
    "        return self._stack.pop()\n",
    "    \n",
    "    @property\n",
    "    def peek(self) -> Any:\n",
    "        \"\"\"A propery in Python is a method.\n",
    "\n",
    "        But we can access it as it were a mere instance variable.\n",
    "        \"\"\"\n",
    "        return self._stack[-1]"
   ]
  },
  {
   "cell_type": "markdown",
   "metadata": {},
   "source": [
    "Let's play and test it. If you have read about Python lists, you know that a stack is a poorer data structure...or more restrict if you like it better."
   ]
  },
  {
   "cell_type": "code",
   "execution_count": 5,
   "metadata": {},
   "outputs": [
    {
     "name": "stdout",
     "output_type": "stream",
     "text": [
      "Demonstrating class variables\n",
      "stk1 (42) and stk2 (42)\n",
      "\n",
      "Demonstrating instance variables\n",
      "stk1 (['hello']) and stk2 (['world'])\n",
      "\n",
      "Stack([]), len = 0\n",
      "Stack(['hello', 'world']): peek = world, len = 2\n"
     ]
    }
   ],
   "source": [
    "stk1 = Stack()\n",
    "stk2 = Stack()\n",
    "\n",
    "print(\"Demonstrating class variables\")\n",
    "print(f\"stk1 ({stk1.answer}) and stk2 ({stk2.answer})\\n\")\n",
    "\n",
    "stk1.push(\"hello\")\n",
    "stk2.push(\"world\")\n",
    "\n",
    "print(\"Demonstrating instance variables\")\n",
    "# code smell: accessing a \"private\" variable\n",
    "print(f\"stk1 ({stk1._stack}) and stk2 ({stk2._stack})\\n\")\n",
    "\n",
    "stk1.push(stk2.pop())\n",
    "\n",
    "print(f\"{stk2}, len = {len(stk2)}\")  # __str__ and __len__ methods\n",
    "print(f\"{stk1}: peek = {stk1.peek}, len = {len(stk1)}\")"
   ]
  },
  {
   "cell_type": "markdown",
   "metadata": {},
   "source": [
    "Why still care about a stack? Because when a function/routine is called/invoked, all necessary information about it is pushed into a [call stack](https://en.wikipedia.org/wiki/Call_stack). If a rotine calls another subroutine, a new frame is pushed into the call stack and so on if your code keeps doing so. When a function finishes and returns the control back to the higher level, the corresponding frame is popped from the call stack.\n",
    "\n",
    "Usually, the OS and the programming language manage the stack, so ot out of your hands. But this is all what is managed for you, with recursion and improper design blowing the call stack is feasible enough. In Python, you can change the default recursion limit, but think at least twice before you change it."
   ]
  },
  {
   "cell_type": "markdown",
   "metadata": {},
   "source": [
    "### Examples of Recursion"
   ]
  },
  {
   "cell_type": "markdown",
   "metadata": {},
   "source": [
    "The examples from this section do have something in common apart their recursive implementations. It does not have to do with \"better\" recursive implementations, but relates to (postmature) optimisation. Can you guess what it is?"
   ]
  },
  {
   "cell_type": "markdown",
   "metadata": {},
   "source": [
    "#### Factorial"
   ]
  },
  {
   "cell_type": "markdown",
   "metadata": {},
   "source": [
    "The factorial of a non-negative integer number - a classic problem when learning recursion."
   ]
  },
  {
   "cell_type": "code",
   "execution_count": 6,
   "metadata": {},
   "outputs": [],
   "source": [
    "def factorial_recursive(number: int) -> int:\n",
    "    \"\"\"Returns the factorial of a non-negative integer.\"\"\"\n",
    "\n",
    "    def _rec_fact(nbr: int) -> int:\n",
    "        \"\"\"The actual recursive factorial algorithm.\n",
    "\n",
    "        This is a hack.\n",
    "        Python allows define a functions in the body of another one.\n",
    "        This might be good for the reasons as follows:\n",
    "            - validate/preprocess data before moving to the algorithm\n",
    "            - do it once and do not repeat in every call\n",
    "        \"\"\"\n",
    "\n",
    "        # base case\n",
    "        if nbr in (0, 1):\n",
    "            return 1\n",
    "        # recursive step\n",
    "        return nbr * _rec_fact(nbr - 1)\n",
    "\n",
    "    validate_non_negative_integer(number)\n",
    "    return _rec_fact(number)"
   ]
  },
  {
   "cell_type": "markdown",
   "metadata": {},
   "source": [
    "The validation function is crucial for preventing negative numbers being passed as a parametre. If a negative number sinks into the current implementation without validation, the base case is never reached resulting in RecursionError which means a stack overflow situation.\n",
    "\n",
    "It is also possible to cause the RecursionError if passing the number that will definitely exceed the current recursion level. However, the computer can freeze earlier than hitting the recursion limit, the resources like CPU memory and so on are depletable.\n",
    "\n",
    "Testing the recursive version of the factorial."
   ]
  },
  {
   "cell_type": "code",
   "execution_count": 7,
   "metadata": {},
   "outputs": [
    {
     "name": "stdout",
     "output_type": "stream",
     "text": [
      "\u001b[32m.\u001b[0m\u001b[32m.\u001b[0m\u001b[32m.\u001b[0m\u001b[32m.\u001b[0m\u001b[32m.\u001b[0m\u001b[32m.\u001b[0m\u001b[32m                                                                                       [100%]\u001b[0m\n",
      "\u001b[32m\u001b[32m\u001b[1m6 passed\u001b[0m\u001b[32m in 0.02s\u001b[0m\u001b[0m\n"
     ]
    }
   ],
   "source": [
    "%%ipytest\n",
    "\n",
    "# https://github.com/chmp/ipytest\n",
    "@pytest.mark.parametrize(\n",
    "    (\"number\", \"answer\", \"expectation\"),\n",
    "    [\n",
    "        (-1, None, pytest.raises(ValueError)),\n",
    "        (0, 1, does_not_raise()),\n",
    "        (1, 1, does_not_raise()),\n",
    "        (4, 24, does_not_raise()),\n",
    "        (5.0, 120, pytest.raises(TypeError)),\n",
    "        # increase if you dare\n",
    "        (5000, None, pytest.raises(RecursionError))\n",
    "    ]\n",
    ")\n",
    "def test_factorial(number, answer, expectation):\n",
    "    with expectation:\n",
    "        result = factorial_recursive(number)\n",
    "        answer == result"
   ]
  },
  {
   "cell_type": "markdown",
   "metadata": {},
   "source": [
    "You can add `print()` statements in the `recursive_factorial` function to \"textualise\" the function calls - it may be illustrative enough for \"emulating\" call stack responses. for example:"
   ]
  },
  {
   "cell_type": "markdown",
   "metadata": {},
   "source": [
    "#### The sum of numbers"
   ]
  },
  {
   "cell_type": "markdown",
   "metadata": {},
   "source": [
    "Or, the sum of a sequence of numbers, not only integer ones.\n",
    "\n",
    "Yes, we can think about summing the numbers with recursion: `S(n) = n + S(n - 1)`. Reminds the factorial, but deals with addition operator - this is our recursive step, a uniform operation forging a repeating pattern.\n",
    "\n",
    "But when to stop? The convention about an empty sequence is that its sum is zero. So, we can stop either when a sequence holds a single element or when it is empty with no elements at all. The second variant is preferrable because it covers empty sequences as well."
   ]
  },
  {
   "cell_type": "code",
   "execution_count": 8,
   "metadata": {},
   "outputs": [],
   "source": [
    "from typing import Sequence\n",
    "\n",
    "\n",
    "def sum_recursively(seq: Sequence) -> int:\n",
    "    \"\"\"Returns the sum of the items from the sequence.\"\"\"\n",
    "\n",
    "    def _sum_rec(_seq: list, last_index: int) -> int:\n",
    "        \"\"\"The real recursive implementation.\n",
    "\n",
    "        The implementation required a new parametre.\n",
    "        The signature of the `sum_recursively` function is good\n",
    "        and must not be changed - this is fixed and full stop.\n",
    "        At last, the conversion to the list should be done at most once.\n",
    "        \"\"\"\n",
    "\n",
    "        if last_index:\n",
    "            # recursive step\n",
    "            new_last_index = last_index - 1\n",
    "            last_element = _seq[last_index - 1]\n",
    "            return last_element + _sum_rec(_seq, new_last_index)\n",
    "        # base case: for an empty sequence the sum is 0 conventionally\n",
    "        return 0\n",
    "\n",
    "    # for convenience and protection from:\n",
    "    #    - non iterable objects\n",
    "    #    - generators (similar but different nature/behaviour)\n",
    "    lst = list(seq)\n",
    "    return _sum_rec(lst, len(lst))"
   ]
  },
  {
   "cell_type": "code",
   "execution_count": 9,
   "metadata": {},
   "outputs": [
    {
     "name": "stdout",
     "output_type": "stream",
     "text": [
      "\u001b[32m.\u001b[0m\u001b[32m.\u001b[0m\u001b[32m.\u001b[0m\u001b[32m.\u001b[0m\u001b[32m                                                                                         [100%]\u001b[0m\n",
      "\u001b[32m\u001b[32m\u001b[1m4 passed\u001b[0m\u001b[32m in 0.01s\u001b[0m\u001b[0m\n"
     ]
    }
   ],
   "source": [
    "%%ipytest\n",
    "\n",
    "# https://github.com/chmp/ipytest\n",
    "@pytest.mark.parametrize(\n",
    "    (\"sequence\", \"answer\", \"expectation\"),\n",
    "    [\n",
    "        ([], 0, does_not_raise()),\n",
    "        (1, 1, pytest.raises(TypeError)),\n",
    "        ([1], 1, does_not_raise()),\n",
    "        ((1, 2, 3), 6, does_not_raise()),\n",
    "    ]\n",
    ")\n",
    "def test_sum_rec(sequence, answer, expectation):\n",
    "    with expectation:\n",
    "        result = sum_recursively(sequence)\n",
    "        answer == result"
   ]
  },
  {
   "cell_type": "markdown",
   "metadata": {},
   "source": [
    "#### Reversing a string"
   ]
  },
  {
   "cell_type": "markdown",
   "metadata": {},
   "source": [
    "A string is a sequence of characters. A character is a symbol from a base set called alphabet. A string containing no character is an empty string.\n",
    "\n",
    "The task is to reverse a string. For instance, if we have \"abc\" string, its reverse will be \"cba\" string. How to think about this process recursively?\n",
    "\n",
    "- if S = \"\" or \"1\", then R = \"\" or \"1\" and R = S, so we can just return S -> base cases, but an empty string seems to be more base in this case;\n",
    "\n",
    "- if S = \"12\", then R = \"21\" and so on - the length of the string is greater than two (or one if keeping in mind the previous point) -> recursive part\n",
    "\n",
    "It remains to design a recursive step and it is composite:\n",
    "\n",
    "1. there is a string of length n -> S(n);\n",
    "\n",
    "2. if the string is not empty, the last character (Lc) is torn off the string - we have a new string S(n - 1) and Lc;\n",
    "\n",
    "3. reordering: instead of `S(n - 1) + Lc` we have `Lc + S(n - 1)`, where plus (+) sign means string concatenation operation\n",
    "\n",
    "Done)"
   ]
  },
  {
   "cell_type": "code",
   "execution_count": 10,
   "metadata": {},
   "outputs": [],
   "source": [
    "def reverse_string_recursive(string: str) -> str:\n",
    "    \"\"\"Returns the reversed string.\n",
    "    \n",
    "    The function is made to be pure.\n",
    "    It comes from the functional programming paradigm.\n",
    "    A pure function is meant to have no side effects.\n",
    "    In this case our function does not affect the original string.\n",
    "    \"\"\"\n",
    "\n",
    "    def _reverse_string(s1: str, idx: int) -> str:\n",
    "        \"\"\"The actual recursive routine.\"\"\"\n",
    "\n",
    "        if not idx:\n",
    "            return \"\"\n",
    "        return s1[idx - 1] + _reverse_string(s1, idx - 1)\n",
    "\n",
    "    if not isinstance(string, str):\n",
    "        raise TypeError(f\"{string} is not of type 'str'\")\n",
    "    return _reverse_string(string, len(string))"
   ]
  },
  {
   "cell_type": "code",
   "execution_count": 11,
   "metadata": {},
   "outputs": [
    {
     "name": "stdout",
     "output_type": "stream",
     "text": [
      "\u001b[32m.\u001b[0m\u001b[32m.\u001b[0m\u001b[32m.\u001b[0m\u001b[32m.\u001b[0m\u001b[32m                                                                                         [100%]\u001b[0m\n",
      "\u001b[32m\u001b[32m\u001b[1m4 passed\u001b[0m\u001b[32m in 0.01s\u001b[0m\u001b[0m\n"
     ]
    }
   ],
   "source": [
    "%%ipytest\n",
    "\n",
    "# https://github.com/chmp/ipytest\n",
    "@pytest.mark.parametrize(\n",
    "    (\"string\", \"answer\", \"expectation\"),\n",
    "    [\n",
    "        (\"\", \"\", does_not_raise()),\n",
    "        (\"a\", \"a\", does_not_raise()),\n",
    "        (\"ab\", \"ba\", does_not_raise()),\n",
    "        (('a', 2), (2, 'a'), pytest.raises(TypeError)),\n",
    "    ]\n",
    ")\n",
    "def test_reverse_string_recursively(\n",
    "    string, answer, expectation\n",
    "):\n",
    "    with expectation:\n",
    "        result = reverse_string_recursive(string)\n",
    "        answer == result"
   ]
  },
  {
   "cell_type": "markdown",
   "metadata": {},
   "source": [
    "#### Triangular numbers"
   ]
  },
  {
   "cell_type": "markdown",
   "metadata": {},
   "source": [
    "This example will be designed in a specific way to demonstrate that a recursive algorithm does not necessarily mean to always reduce a problem to a smaller subproblems. The fact is that the recursion can work towards expansion and look at a problem at a different angle. And about angles and a bit of geometry is this example on triangular numbers.\n",
    "\n",
    "A triangular number is such a number that, if taking the same amount of uniform objects as the value of the given triangular number, then we can form of these objects a triangle. Visualising triangular and other \"figurative\" numbers with the following picture:\n",
    "\n",
    "![\"Figurative numbers\"](./figurative_numbers.jpg)"
   ]
  },
  {
   "cell_type": "markdown",
   "metadata": {},
   "source": [
    "The idea is to think these numbers recursively, but in both directions:\n",
    "\n",
    "1. shrinking -> the nth triangular number is defined in terms of the previous -> `T(n) = T(n - 1) + n` and the base case is `T(1) = 1`;\n",
    "\n",
    "2. expanding -> `T(k + 1) = T(k) + (k + 1)` and the recursive step keeps going until `(k + 1) != n`, or \"gets equal to the nth term\".\n",
    "\n",
    "What? This is weird, cannot be though seriously, to be discarded...but think about it, look at the above picture again, try to play with other geometric numbers and behold that you can move not only from the right to the left, from a problem to a subproblem, but also in the opposite direction. Certainly, practicality beats purity and you pick up what is less exhaustive to understand and maintain."
   ]
  },
  {
   "cell_type": "code",
   "execution_count": 12,
   "metadata": {},
   "outputs": [],
   "source": [
    "def get_nth_triangular_number(nth: int) -> int:\n",
    "    \"\"\"Returns the nth triangular number.\n",
    "\n",
    "    The indexation starts from zero, so T(0) = 1, T(1) = 3 and so forth.\n",
    "    The recursive algorithm is a \"expanding recursion\" (unofficial, yikes).\n",
    "\n",
    "    Yep, bad examples can ruin good ideas.\n",
    "    But this example may seem bad so far...\n",
    "    \"\"\"\n",
    "\n",
    "    def _triangulate(limit: int, current: int) -> int:\n",
    "        if not limit:\n",
    "            return current\n",
    "        # the answer variable is accumulator\n",
    "        return current + _triangulate(limit - 1, current + 1)\n",
    "\n",
    "    validate_non_negative_integer(nth)\n",
    "    return _triangulate(nth, 1)"
   ]
  },
  {
   "cell_type": "code",
   "execution_count": 13,
   "metadata": {},
   "outputs": [
    {
     "name": "stdout",
     "output_type": "stream",
     "text": [
      "\u001b[32m.\u001b[0m\u001b[32m.\u001b[0m\u001b[32m.\u001b[0m\u001b[32m.\u001b[0m\u001b[32m.\u001b[0m\u001b[32m.\u001b[0m\u001b[32m                                                                                       [100%]\u001b[0m\n",
      "\u001b[32m\u001b[32m\u001b[1m6 passed\u001b[0m\u001b[32m in 0.01s\u001b[0m\u001b[0m\n"
     ]
    }
   ],
   "source": [
    "%%ipytest\n",
    "\n",
    "# https://github.com/chmp/ipytest\n",
    "@pytest.mark.parametrize(\n",
    "    (\"number\", \"answer\", \"expectation\"),\n",
    "    [\n",
    "        (-21, None, pytest.raises(ValueError)),\n",
    "        (4.2, None, pytest.raises(TypeError)),\n",
    "        (0, 1, does_not_raise()),\n",
    "        (1, 3, does_not_raise()),\n",
    "        (2, 6, does_not_raise()),\n",
    "        (3, 10, does_not_raise()),\n",
    "    ]\n",
    ")\n",
    "def test_get_nth_triangular_number(\n",
    "    number, answer, expectation\n",
    "):\n",
    "    with expectation:\n",
    "        result = get_nth_triangular_number(number)\n",
    "        answer == result"
   ]
  },
  {
   "cell_type": "markdown",
   "metadata": {},
   "source": [
    "### Homework"
   ]
  },
  {
   "cell_type": "markdown",
   "metadata": {},
   "source": [
    "This is an extra section for those, who like doing some home work.\n",
    "\n",
    "0. consider learning [pytest](https://docs.pytest.org/en/latest/) framework for writing unit tests in an easy-coding fashion. For the following home tasks unit tests are mandatory.\n",
    "\n",
    "1. Write a class `NaturalNumber` which represents a natural number ADT. You'll need to implement the following methods for supporting:\n",
    "\n",
    "    - addition: `__add__`, `__iadd__` and `__radd__`;\n",
    "\n",
    "    - multiplication: `__mul__` and so forth (see addition);\n",
    "\n",
    "    - subtraction: `__sub__` et cetera. The subtraction should work for b - a only if b > a;\n",
    "\n",
    "    - division: you'll have to find the corresponding dunders for this operation + the division is possible if the result belongs to the set of natural numbers.\n",
    "\n",
    "2. Write a recursive implementation for computing the nth term of the Fibonacci sequence. The base cases are `F(0) = 0` and `F(1) = 1`.\n",
    "\n",
    "3. Write iterative versions for examples from the [Examples of Recursion](#examples-of-recursion) section."
   ]
  },
  {
   "cell_type": "markdown",
   "metadata": {},
   "source": [
    "### References\n",
    "\n",
    "- [WikiPedia -> Recursion](https://en.wikipedia.org/wiki/Recursion)\n",
    "\n",
    "- [YouTube -> Recursion for Beginners: A Beginner's Guide to Recursion - Al Sweigart](https://www.youtube.com/watch?v=AfBqVVKg4GE)\n",
    "\n",
    "- [YouTube -> Recursion - V. Anton Spraul (Think Like a Programmer)](https://www.youtube.com/watch?v=oKndim5-G94)\n",
    "\n",
    "- [YouTube -> FreeCodeCamp - Recursion in Programming](https://www.youtube.com/watch?v=IJDJ0kBx2LM)\n",
    "\n",
    "- [enjoyalgorithms.com -> Fundamentals of Recursion in Programming](https://www.enjoyalgorithms.com/blog/recursion-explained-how-recursion-works-in-programming)\n",
    "\n",
    "- [educative.io -> Recursion: A Quick Guide for Software Engineers](https://www.educative.io/blog/recursion)\n",
    "\n",
    "- [WikiPedia -> Stack](https://en.wikipedia.org/wiki/Stack_(abstract_data_type))\n",
    "\n",
    "- [Baeldung -> What is Abstract Data Type?](https://www.baeldung.com/cs/adt)\n",
    "\n",
    "- [Stack Overflow -> Running Pytest inside a Jupyter notebook](https://stackoverflow.com/questions/41304311/running-pytest-test-functions-inside-a-jupyter-notebook)\n",
    "\n",
    "- [GitHub -> IPytest](https://github.com/chmp/ipytest)\n",
    "\n",
    "- [Pytest -> Examples -> Parametrising tests](https://docs.pytest.org/en/7.1.x/example/parametrize.html)"
   ]
  },
  {
   "cell_type": "markdown",
   "metadata": {},
   "source": [
    "### Solutions"
   ]
  },
  {
   "cell_type": "markdown",
   "metadata": {},
   "source": [
    "1. The implementation of natural numbers abstract data type -> writing a `NaturalNumber` data structure."
   ]
  },
  {
   "cell_type": "code",
   "execution_count": 14,
   "metadata": {},
   "outputs": [],
   "source": [
    "class NaturalNumber:\n",
    "    def __init__(self, value):\n",
    "        validate_positive_integer(value)\n",
    "        self._val = value\n",
    "\n",
    "    @property\n",
    "    def value(self) -> int:\n",
    "        \"\"\"self.value means self._val\"\"\"\n",
    "        return self._val\n",
    "\n",
    "    def _get_value(self, other):\n",
    "        \"\"\"a helper for operations\"\"\"\n",
    "        if isinstance(other, NaturalNumber):\n",
    "            return other.value\n",
    "        return other\n",
    "\n",
    "    def __add__(self, other):\n",
    "        \"\"\"self + other\"\"\"\n",
    "        return NaturalNumber(self._val + self._get_value(other))\n",
    "\n",
    "    def __iadd__(self, other):\n",
    "        \"\"\"self += other\"\"\"\n",
    "        return self + other\n",
    "\n",
    "    def __radd__(self, other):\n",
    "        \"\"\"other + self\"\"\"\n",
    "        return self + other  # calling __add__\n",
    "\n",
    "    def __eq__(self, other):\n",
    "        return self._val == self._get_value(other)\n",
    "\n",
    "    def __mul__(self, other):\n",
    "        \"\"\"self * other\"\"\"\n",
    "        return NaturalNumber(self._val * self._get_value(other))\n",
    "\n",
    "    def __imul__(self, other):\n",
    "        \"\"\"self *= other\"\"\"\n",
    "        return self * other\n",
    "\n",
    "    def __rmul__(self, other):\n",
    "        \"\"\"other * self\"\"\"\n",
    "        return self * other\n",
    "\n",
    "    def __repr__(self) -> str:\n",
    "        cls_name = self.__class__.__name__\n",
    "        return f\"{cls_name}({self._val})\"\n",
    "\n",
    "    def __str__(self) -> str:\n",
    "        return str(self._val)\n",
    "\n",
    "    def __sub__(self, other):\n",
    "        \"\"\"self - other\"\"\"\n",
    "        return NaturalNumber(self.value - self._get_value(other))\n",
    "\n",
    "    def __isub__(self, other):\n",
    "        \"\"\"self -= other\"\"\"\n",
    "        return self - other\n",
    "\n",
    "    def __rsub__(self, other):\n",
    "        \"\"\"other - self\"\"\"\n",
    "        return self - other\n",
    "    \n",
    "    def __truediv__(self, other):\n",
    "        \"\"\"self / other\"\"\"\n",
    "        raise NotImplementedError\n",
    "\n",
    "    def __itruediv__(self, other):\n",
    "        \"\"\"self / other\"\"\"\n",
    "        raise NotImplementedError\n",
    "\n",
    "    def __rtruediv__(self, other):\n",
    "        \"\"\"other / self\"\"\"\n",
    "        raise NotImplementedError\n",
    "    \n",
    "    def __floordiv__(self, other):\n",
    "        \"\"\"self // other\"\"\"\n",
    "        res: float = self._val / self._get_value(other)\n",
    "        if not res.is_integer():\n",
    "            raise ValueError(f\"{res} is out of natural numbers\")\n",
    "        return NaturalNumber(int(res))\n",
    "\n",
    "    def __ifloordiv__(self, other):\n",
    "        \"\"\"self // other\"\"\"\n",
    "        return self // other\n",
    "\n",
    "    def __rfloordiv__(self, other):\n",
    "        \"\"\"other // self\"\"\"\n",
    "        return self // other"
   ]
  },
  {
   "cell_type": "code",
   "execution_count": 15,
   "metadata": {},
   "outputs": [
    {
     "name": "stdout",
     "output_type": "stream",
     "text": [
      "\u001b[32m.\u001b[0m\u001b[32m.\u001b[0m\u001b[32m.\u001b[0m\u001b[32m.\u001b[0m\u001b[32m.\u001b[0m\u001b[32m.\u001b[0m\u001b[32m.\u001b[0m\u001b[32m.\u001b[0m\u001b[32m.\u001b[0m\u001b[32m.\u001b[0m\u001b[32m.\u001b[0m\u001b[32m.\u001b[0m\u001b[32m.\u001b[0m\u001b[32m.\u001b[0m\n",
      "\u001b[32m\u001b[32m\u001b[1m14 passed\u001b[0m\u001b[32m in 0.02s\u001b[0m\u001b[0m\n"
     ]
    }
   ],
   "source": [
    "%%ipytest -s\n",
    "\n",
    "\n",
    "class TestNaturalNumbers:\n",
    "    \"\"\"Test Suite for testing Natural Numbers.\"\"\"\n",
    "\n",
    "    @pytest.mark.parametrize(\n",
    "        (\"nbr\", \"expectation\"),\n",
    "        [\n",
    "            (-1, pytest.raises(ValueError)),\n",
    "            (0, pytest.raises(ValueError)),\n",
    "            (1.0, pytest.raises(TypeError)),\n",
    "        ]\n",
    "    )\n",
    "    def test_init(self, nbr, expectation):\n",
    "        with expectation:\n",
    "            NaturalNumber(nbr)\n",
    "\n",
    "    @pytest.mark.parametrize(\n",
    "        (\"nbr1\", \"nbr2\", \"answer\"),\n",
    "        [\n",
    "            (1, 1, 2),\n",
    "        ]\n",
    "    )\n",
    "    def test_add(self, nbr1, nbr2, answer):\n",
    "        n1, n2 = NaturalNumber(nbr1), NaturalNumber(nbr2)\n",
    "        assert n1 + n2 == n2 + n1 == answer\n",
    "        n1 += n2\n",
    "        assert n1 == answer\n",
    "\n",
    "    @pytest.mark.parametrize(\n",
    "        (\"nbr1\", \"nbr2\", \"answer\"),\n",
    "        [\n",
    "            (1, 1, 1),\n",
    "            (2, 1, 2),\n",
    "            (2, 2, 4),\n",
    "        ]\n",
    "    )\n",
    "    def test_mul(self, nbr1, nbr2, answer):\n",
    "        n1, n2 = NaturalNumber(nbr1), NaturalNumber(nbr2)\n",
    "        assert n1 * n2 == n2 * n1 == answer\n",
    "        n1 *= n2\n",
    "        assert n1 == answer\n",
    "\n",
    "    @pytest.mark.parametrize(\n",
    "        (\"nbr1\", \"nbr2\", \"answer\", \"expectation\"),\n",
    "        [\n",
    "            (2, 1, 1, does_not_raise()),\n",
    "            # this row shows a possible design failure, but anyway\n",
    "            (2, 2, 0, pytest.raises(ValueError)),\n",
    "            (2, 3, -1, pytest.raises(ValueError))\n",
    "        ]\n",
    "    )\n",
    "    def test_sub(self, nbr1, nbr2, answer, expectation):\n",
    "        with expectation:\n",
    "            n1, n2 = NaturalNumber(nbr1), NaturalNumber(nbr2)\n",
    "            assert n1 - n2 == answer\n",
    "            n1 -= n2\n",
    "            assert n1 == answer\n",
    "\n",
    "    @pytest.mark.parametrize(\n",
    "        (\"nbr1\", \"nbr2\", \"answer\", \"expectation\"),\n",
    "        [\n",
    "            (1, 1, 1, does_not_raise()),\n",
    "            (2, 2, 1, does_not_raise()),\n",
    "            (5, 3, 5//3, pytest.raises(ValueError)),\n",
    "            (3, 5, 3//5, pytest.raises(ValueError)),\n",
    "        ]\n",
    "    )\n",
    "    def test_div(self, nbr1, nbr2, answer, expectation):\n",
    "        with expectation:\n",
    "            n1, n2 = NaturalNumber(nbr1), NaturalNumber(nbr2)\n",
    "            assert n1 // n2 == answer\n",
    "            n1 //= n2\n",
    "            assert n1 == answer"
   ]
  },
  {
   "cell_type": "markdown",
   "metadata": {},
   "source": [
    "2. You can do it yourself"
   ]
  },
  {
   "cell_type": "markdown",
   "metadata": {},
   "source": [
    "3. Will be mostly covered later when uncovering ways to interchange recursive and iterative implementations."
   ]
  },
  {
   "cell_type": "code",
   "execution_count": 16,
   "metadata": {},
   "outputs": [],
   "source": [
    "def _get_nth_triangular_number_recursive(nth: int) -> int:\n",
    "    if not nth:\n",
    "        return 1\n",
    "    return _get_nth_triangular_number_recursive(nth - 1) + nth\n",
    "\n",
    "\n",
    "# just redefining the function\n",
    "def get_triangular_number_recursive(nth: int) -> int:\n",
    "    \"\"\"Returns the nth triangular number.\n",
    "\n",
    "    The indexation starts from zero, so T(0) = 1, T(1) = 3 and so forth.\n",
    "    \"\"\"\n",
    "\n",
    "    validate_non_negative_integer(nth)\n",
    "    return _get_nth_triangular_number_recursive(nth)\n",
    "\n",
    "\n",
    "def get_triangular_number_iterative(nth: int) -> int:\n",
    "    \"\"\"Returns the nth triangular number.\n",
    "\n",
    "    The indexation starts from zero, so T(0) = 1, T(1) = 3 and so forth.\n",
    "    \"\"\"\n",
    "\n",
    "    validate_non_negative_integer(nth)\n",
    "    sum_ = 1\n",
    "    for _ in range(1, nth):\n",
    "        sum_ += (sum_ + 1)\n",
    "    return sum_"
   ]
  },
  {
   "cell_type": "code",
   "execution_count": 17,
   "metadata": {},
   "outputs": [
    {
     "name": "stdout",
     "output_type": "stream",
     "text": [
      "\u001b[32m.\u001b[0m\u001b[32m.\u001b[0m\u001b[32m.\u001b[0m\u001b[32m.\u001b[0m\u001b[32m.\u001b[0m\u001b[32m.\u001b[0m\u001b[32m                                                                                       [100%]\u001b[0m\n",
      "\u001b[32m\u001b[32m\u001b[1m6 passed\u001b[0m\u001b[32m in 0.01s\u001b[0m\u001b[0m\n"
     ]
    }
   ],
   "source": [
    "%%ipytest\n",
    "\n",
    "# https://github.com/chmp/ipytest\n",
    "@pytest.mark.parametrize(\n",
    "    (\"number\", \"answer\", \"expectation\"),\n",
    "    [\n",
    "        (-21, None, pytest.raises(ValueError)),\n",
    "        (4.2, None, pytest.raises(TypeError)),\n",
    "        (0, 1, does_not_raise()),\n",
    "        (1, 3, does_not_raise()),\n",
    "        (2, 6, does_not_raise()),\n",
    "        (3, 10, does_not_raise()),\n",
    "    ]\n",
    ")\n",
    "def test_get_nth_triangular_number(\n",
    "    number, answer, expectation\n",
    "):\n",
    "    with expectation:\n",
    "        res_rec = get_triangular_number_recursive(number)\n",
    "        res_iter = get_triangular_number_iterative(number)\n",
    "        res_rec == res_iter == answer"
   ]
  },
  {
   "cell_type": "markdown",
   "metadata": {},
   "source": [
    "That is all for now."
   ]
  }
 ],
 "metadata": {
  "kernelspec": {
   "display_name": "Python 3",
   "language": "python",
   "name": "python3"
  },
  "language_info": {
   "codemirror_mode": {
    "name": "ipython",
    "version": 3
   },
   "file_extension": ".py",
   "mimetype": "text/x-python",
   "name": "python",
   "nbconvert_exporter": "python",
   "pygments_lexer": "ipython3",
   "version": "3.10.12"
  }
 },
 "nbformat": 4,
 "nbformat_minor": 2
}
