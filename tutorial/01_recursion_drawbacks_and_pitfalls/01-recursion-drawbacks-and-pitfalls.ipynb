{
 "cells": [
  {
   "cell_type": "markdown",
   "metadata": {},
   "source": [
    "# Recursion drawbacks and pitfalls\n",
    "\n",
    "This tutorial covers pitfalls when designing recursive implementations of algorithms and how to avoid them. Then moving from pitfals to drawbacks of recursion because the latter is not an omnipotent tool to solve problems."
   ]
  },
  {
   "cell_type": "markdown",
   "metadata": {},
   "source": [
    "## Table of contents\n",
    "\n",
    "- [Pitfalls](#pitfalls)\n",
    "\n",
    "- [Drawbacks](#drawbacks)\n",
    "\n",
    "- [Workshop](#workshop)\n",
    "\n",
    "  - [Detecting palindromes](#detecting-palindromes)\n",
    "\n",
    "- [References](#references)"
   ]
  },
  {
   "cell_type": "markdown",
   "metadata": {},
   "source": [
    "Importing auxiliary utilities."
   ]
  },
  {
   "cell_type": "code",
   "execution_count": 1,
   "metadata": {},
   "outputs": [],
   "source": [
    "from contextlib import nullcontext as does_not_raise\n",
    "from typing import Any, Callable\n",
    "\n",
    "import ipytest\n",
    "import pytest\n",
    "\n",
    "# https://github.com/chmp/ipytest\n",
    "ipytest.autoconfig()\n",
    "\n",
    "\n",
    "def validate_integer(number: Any) -> None:\n",
    "    \"\"\"Validates if an object is of int() type.\"\"\"\n",
    "\n",
    "    if not isinstance(number, int):\n",
    "        raise TypeError(f\"{number} is not int\")\n",
    "\n",
    "\n",
    "def validate_non_negative_integer(number: int) -> None:\n",
    "    \"\"\"Validates a number to be a non-negative integer.\"\"\"\n",
    "\n",
    "    validate_integer(number)\n",
    "    if number < 0:\n",
    "        raise ValueError(f\"{number} < 0\")\n",
    "\n",
    "\n",
    "def validate_positive_integer(number: Any) -> None:\n",
    "    \"\"\"Validates a number to be a positive integer.\"\"\"\n",
    "\n",
    "    validate_integer(number)\n",
    "    if number < 1:\n",
    "        raise ValueError(f\"{number} < 1\")"
   ]
  },
  {
   "cell_type": "markdown",
   "metadata": {},
   "source": [
    "### Pitfalls"
   ]
  },
  {
   "cell_type": "markdown",
   "metadata": {},
   "source": [
    "Recalling the example of an unstoppable recursive function."
   ]
  },
  {
   "cell_type": "code",
   "execution_count": 2,
   "metadata": {},
   "outputs": [
    {
     "ename": "RecursionError",
     "evalue": "maximum recursion depth exceeded",
     "output_type": "error",
     "traceback": [
      "\u001b[0;31m---------------------------------------------------------------------------\u001b[0m",
      "\u001b[0;31mRecursionError\u001b[0m                            Traceback (most recent call last)",
      "Cell \u001b[0;32mIn[2], line 5\u001b[0m\n\u001b[1;32m      1\u001b[0m \u001b[38;5;28;01mdef\u001b[39;00m \u001b[38;5;21mfoo\u001b[39m():\n\u001b[1;32m      2\u001b[0m     foo()\n\u001b[0;32m----> 5\u001b[0m \u001b[43mfoo\u001b[49m\u001b[43m(\u001b[49m\u001b[43m)\u001b[49m\n",
      "Cell \u001b[0;32mIn[2], line 2\u001b[0m, in \u001b[0;36mfoo\u001b[0;34m()\u001b[0m\n\u001b[1;32m      1\u001b[0m \u001b[38;5;28;01mdef\u001b[39;00m \u001b[38;5;21mfoo\u001b[39m():\n\u001b[0;32m----> 2\u001b[0m     \u001b[43mfoo\u001b[49m\u001b[43m(\u001b[49m\u001b[43m)\u001b[49m\n",
      "Cell \u001b[0;32mIn[2], line 2\u001b[0m, in \u001b[0;36mfoo\u001b[0;34m()\u001b[0m\n\u001b[1;32m      1\u001b[0m \u001b[38;5;28;01mdef\u001b[39;00m \u001b[38;5;21mfoo\u001b[39m():\n\u001b[0;32m----> 2\u001b[0m     \u001b[43mfoo\u001b[49m\u001b[43m(\u001b[49m\u001b[43m)\u001b[49m\n",
      "    \u001b[0;31m[... skipping similar frames: foo at line 2 (2970 times)]\u001b[0m\n",
      "Cell \u001b[0;32mIn[2], line 2\u001b[0m, in \u001b[0;36mfoo\u001b[0;34m()\u001b[0m\n\u001b[1;32m      1\u001b[0m \u001b[38;5;28;01mdef\u001b[39;00m \u001b[38;5;21mfoo\u001b[39m():\n\u001b[0;32m----> 2\u001b[0m     \u001b[43mfoo\u001b[49m\u001b[43m(\u001b[49m\u001b[43m)\u001b[49m\n",
      "\u001b[0;31mRecursionError\u001b[0m: maximum recursion depth exceeded"
     ]
    }
   ],
   "source": [
    "def foo():\n",
    "    foo()\n",
    "\n",
    "\n",
    "foo()"
   ]
  },
  {
   "cell_type": "markdown",
   "metadata": {},
   "source": [
    "No base case, no stop condition, the situation of (call) stack overflow and the function crashes.\n",
    "\n",
    "This is also possible in case of indirect recursion. One sort of it is when a function invokes itself through a series of other functions calls."
   ]
  },
  {
   "cell_type": "code",
   "execution_count": null,
   "metadata": {},
   "outputs": [
    {
     "ename": "RecursionError",
     "evalue": "maximum recursion depth exceeded",
     "output_type": "error",
     "traceback": [
      "\u001b[0;31m---------------------------------------------------------------------------\u001b[0m",
      "\u001b[0;31mRecursionError\u001b[0m                            Traceback (most recent call last)",
      "Cell \u001b[0;32mIn[3], line 11\u001b[0m\n\u001b[1;32m      7\u001b[0m \u001b[38;5;28;01mdef\u001b[39;00m \u001b[38;5;21mfoo\u001b[39m():\n\u001b[1;32m      8\u001b[0m     goo()\n\u001b[0;32m---> 11\u001b[0m \u001b[43mfoo\u001b[49m\u001b[43m(\u001b[49m\u001b[43m)\u001b[49m\n",
      "Cell \u001b[0;32mIn[3], line 8\u001b[0m, in \u001b[0;36mfoo\u001b[0;34m()\u001b[0m\n\u001b[1;32m      7\u001b[0m \u001b[38;5;28;01mdef\u001b[39;00m \u001b[38;5;21mfoo\u001b[39m():\n\u001b[0;32m----> 8\u001b[0m     \u001b[43mgoo\u001b[49m\u001b[43m(\u001b[49m\u001b[43m)\u001b[49m\n",
      "Cell \u001b[0;32mIn[3], line 5\u001b[0m, in \u001b[0;36mgoo\u001b[0;34m()\u001b[0m\n\u001b[1;32m      4\u001b[0m \u001b[38;5;28;01mdef\u001b[39;00m \u001b[38;5;21mgoo\u001b[39m():\n\u001b[0;32m----> 5\u001b[0m     \u001b[43mhoo\u001b[49m\u001b[43m(\u001b[49m\u001b[43m)\u001b[49m\n",
      "Cell \u001b[0;32mIn[3], line 2\u001b[0m, in \u001b[0;36mhoo\u001b[0;34m()\u001b[0m\n\u001b[1;32m      1\u001b[0m \u001b[38;5;28;01mdef\u001b[39;00m \u001b[38;5;21mhoo\u001b[39m():\n\u001b[0;32m----> 2\u001b[0m     \u001b[43mfoo\u001b[49m\u001b[43m(\u001b[49m\u001b[43m)\u001b[49m\n",
      "Cell \u001b[0;32mIn[3], line 8\u001b[0m, in \u001b[0;36mfoo\u001b[0;34m()\u001b[0m\n\u001b[1;32m      7\u001b[0m \u001b[38;5;28;01mdef\u001b[39;00m \u001b[38;5;21mfoo\u001b[39m():\n\u001b[0;32m----> 8\u001b[0m     \u001b[43mgoo\u001b[49m\u001b[43m(\u001b[49m\u001b[43m)\u001b[49m\n",
      "Cell \u001b[0;32mIn[3], line 5\u001b[0m, in \u001b[0;36mgoo\u001b[0;34m()\u001b[0m\n\u001b[1;32m      4\u001b[0m \u001b[38;5;28;01mdef\u001b[39;00m \u001b[38;5;21mgoo\u001b[39m():\n\u001b[0;32m----> 5\u001b[0m     \u001b[43mhoo\u001b[49m\u001b[43m(\u001b[49m\u001b[43m)\u001b[49m\n",
      "Cell \u001b[0;32mIn[3], line 2\u001b[0m, in \u001b[0;36mhoo\u001b[0;34m()\u001b[0m\n\u001b[1;32m      1\u001b[0m \u001b[38;5;28;01mdef\u001b[39;00m \u001b[38;5;21mhoo\u001b[39m():\n\u001b[0;32m----> 2\u001b[0m     \u001b[43mfoo\u001b[49m\u001b[43m(\u001b[49m\u001b[43m)\u001b[49m\n",
      "    \u001b[0;31m[... skipping similar frames: foo at line 8 (988 times), goo at line 5 (988 times), hoo at line 2 (988 times)]\u001b[0m\n",
      "Cell \u001b[0;32mIn[3], line 8\u001b[0m, in \u001b[0;36mfoo\u001b[0;34m()\u001b[0m\n\u001b[1;32m      7\u001b[0m \u001b[38;5;28;01mdef\u001b[39;00m \u001b[38;5;21mfoo\u001b[39m():\n\u001b[0;32m----> 8\u001b[0m     \u001b[43mgoo\u001b[49m\u001b[43m(\u001b[49m\u001b[43m)\u001b[49m\n",
      "Cell \u001b[0;32mIn[3], line 5\u001b[0m, in \u001b[0;36mgoo\u001b[0;34m()\u001b[0m\n\u001b[1;32m      4\u001b[0m \u001b[38;5;28;01mdef\u001b[39;00m \u001b[38;5;21mgoo\u001b[39m():\n\u001b[0;32m----> 5\u001b[0m     \u001b[43mhoo\u001b[49m\u001b[43m(\u001b[49m\u001b[43m)\u001b[49m\n",
      "Cell \u001b[0;32mIn[3], line 2\u001b[0m, in \u001b[0;36mhoo\u001b[0;34m()\u001b[0m\n\u001b[1;32m      1\u001b[0m \u001b[38;5;28;01mdef\u001b[39;00m \u001b[38;5;21mhoo\u001b[39m():\n\u001b[0;32m----> 2\u001b[0m     \u001b[43mfoo\u001b[49m\u001b[43m(\u001b[49m\u001b[43m)\u001b[49m\n",
      "\u001b[0;31mRecursionError\u001b[0m: maximum recursion depth exceeded"
     ]
    }
   ],
   "source": [
    "def hoo():\n",
    "    foo()\n",
    "\n",
    "def goo():\n",
    "    hoo()\n",
    "\n",
    "def foo():\n",
    "    goo()\n",
    "\n",
    "\n",
    "foo()"
   ]
  },
  {
   "cell_type": "markdown",
   "metadata": {},
   "source": [
    "All right, let's add a base case (or base cases) to stop recursive calls. Nevertheless, only adding base cases without ensuring the inevitable (!) movement of recursive steps to any of the base cases can lead to a stack overflow."
   ]
  },
  {
   "cell_type": "code",
   "execution_count": 3,
   "metadata": {},
   "outputs": [
    {
     "ename": "RecursionError",
     "evalue": "maximum recursion depth exceeded",
     "output_type": "error",
     "traceback": [
      "\u001b[0;31m---------------------------------------------------------------------------\u001b[0m",
      "\u001b[0;31mRecursionError\u001b[0m                            Traceback (most recent call last)",
      "Cell \u001b[0;32mIn[3], line 8\u001b[0m\n\u001b[1;32m      4\u001b[0m     countdown(number \u001b[38;5;241m-\u001b[39m \u001b[38;5;241m1\u001b[39m)\n\u001b[1;32m      7\u001b[0m \u001b[38;5;66;03m# negative numbers lead to stack overflow\u001b[39;00m\n\u001b[0;32m----> 8\u001b[0m \u001b[43mcountdown\u001b[49m\u001b[43m(\u001b[49m\u001b[38;5;241;43m-\u001b[39;49m\u001b[38;5;241;43m1\u001b[39;49m\u001b[43m)\u001b[49m\n",
      "Cell \u001b[0;32mIn[3], line 4\u001b[0m, in \u001b[0;36mcountdown\u001b[0;34m(number)\u001b[0m\n\u001b[1;32m      2\u001b[0m \u001b[38;5;28;01mif\u001b[39;00m \u001b[38;5;129;01mnot\u001b[39;00m number:\n\u001b[1;32m      3\u001b[0m     \u001b[38;5;28;01mreturn\u001b[39;00m\n\u001b[0;32m----> 4\u001b[0m \u001b[43mcountdown\u001b[49m\u001b[43m(\u001b[49m\u001b[43mnumber\u001b[49m\u001b[43m \u001b[49m\u001b[38;5;241;43m-\u001b[39;49m\u001b[43m \u001b[49m\u001b[38;5;241;43m1\u001b[39;49m\u001b[43m)\u001b[49m\n",
      "Cell \u001b[0;32mIn[3], line 4\u001b[0m, in \u001b[0;36mcountdown\u001b[0;34m(number)\u001b[0m\n\u001b[1;32m      2\u001b[0m \u001b[38;5;28;01mif\u001b[39;00m \u001b[38;5;129;01mnot\u001b[39;00m number:\n\u001b[1;32m      3\u001b[0m     \u001b[38;5;28;01mreturn\u001b[39;00m\n\u001b[0;32m----> 4\u001b[0m \u001b[43mcountdown\u001b[49m\u001b[43m(\u001b[49m\u001b[43mnumber\u001b[49m\u001b[43m \u001b[49m\u001b[38;5;241;43m-\u001b[39;49m\u001b[43m \u001b[49m\u001b[38;5;241;43m1\u001b[39;49m\u001b[43m)\u001b[49m\n",
      "    \u001b[0;31m[... skipping similar frames: countdown at line 4 (2970 times)]\u001b[0m\n",
      "Cell \u001b[0;32mIn[3], line 4\u001b[0m, in \u001b[0;36mcountdown\u001b[0;34m(number)\u001b[0m\n\u001b[1;32m      2\u001b[0m \u001b[38;5;28;01mif\u001b[39;00m \u001b[38;5;129;01mnot\u001b[39;00m number:\n\u001b[1;32m      3\u001b[0m     \u001b[38;5;28;01mreturn\u001b[39;00m\n\u001b[0;32m----> 4\u001b[0m \u001b[43mcountdown\u001b[49m\u001b[43m(\u001b[49m\u001b[43mnumber\u001b[49m\u001b[43m \u001b[49m\u001b[38;5;241;43m-\u001b[39;49m\u001b[43m \u001b[49m\u001b[38;5;241;43m1\u001b[39;49m\u001b[43m)\u001b[49m\n",
      "\u001b[0;31mRecursionError\u001b[0m: maximum recursion depth exceeded"
     ]
    }
   ],
   "source": [
    "def countdown(number: int):\n",
    "    if not number:\n",
    "        return\n",
    "    countdown(number - 1)\n",
    "\n",
    "\n",
    "# negative numbers lead to stack overflow\n",
    "countdown(-1)"
   ]
  },
  {
   "cell_type": "markdown",
   "metadata": {},
   "source": [
    "Ah, let's assure that only non-negative numbers can be passed into the countdown function, but the following implementation has a flaw regardless it works fine."
   ]
  },
  {
   "cell_type": "code",
   "execution_count": null,
   "metadata": {},
   "outputs": [
    {
     "name": "stdout",
     "output_type": "stream",
     "text": [
      "negative numbers are intercepted.\n",
      "over\n",
      "over\n"
     ]
    }
   ],
   "source": [
    "def countdown(number: int):\n",
    "    if number < 0:\n",
    "        raise ValueError(f\"{number} < 0\")\n",
    "    if not number:\n",
    "        print(\"over\")\n",
    "        return\n",
    "    countdown(number - 1)\n",
    "\n",
    "\n",
    "try:\n",
    "    countdown(-1)\n",
    "except ValueError as val_err:\n",
    "    print(\"negative numbers are intercepted.\")\n",
    "    countdown(0)  # ok\n",
    "    countdown(100)  # ok as well"
   ]
  },
  {
   "cell_type": "markdown",
   "metadata": {},
   "source": [
    "The flaw is that checking the incoming number of non-negativity is done every call, which is inefficient. To optimise the solution, let's move apart the validation step to do before the main part."
   ]
  },
  {
   "cell_type": "code",
   "execution_count": 4,
   "metadata": {},
   "outputs": [
    {
     "name": "stdout",
     "output_type": "stream",
     "text": [
      "negative numbers are intercepted.\n",
      "over\n",
      "over\n"
     ]
    }
   ],
   "source": [
    "def countdown(number: int):\n",
    "\n",
    "    def _cntd(number: int):\n",
    "        if not number:\n",
    "            print(\"over\")\n",
    "            return\n",
    "        _cntd(number - 1)\n",
    "\n",
    "    if number < 0:\n",
    "        raise ValueError(f\"{number} < 0\")\n",
    "    _cntd(number)\n",
    "\n",
    "\n",
    "try:\n",
    "    countdown(-1)\n",
    "except ValueError as val_err:\n",
    "    print(\"negative numbers are intercepted.\")\n",
    "    countdown(0)  # ok\n",
    "    countdown(100)  # ok as well"
   ]
  },
  {
   "cell_type": "markdown",
   "metadata": {},
   "source": [
    "Yes, it works, cool, however there is another flaw reducing the applicability of the solution almost colossally - the limited size of call stack which is not a bottomless pit or cornucopia."
   ]
  },
  {
   "cell_type": "code",
   "execution_count": 5,
   "metadata": {},
   "outputs": [
    {
     "name": "stdout",
     "output_type": "stream",
     "text": [
      "Recursion limit -> 3000\n"
     ]
    },
    {
     "ename": "RecursionError",
     "evalue": "maximum recursion depth exceeded",
     "output_type": "error",
     "traceback": [
      "\u001b[0;31m---------------------------------------------------------------------------\u001b[0m",
      "\u001b[0;31mRecursionError\u001b[0m                            Traceback (most recent call last)",
      "Cell \u001b[0;32mIn[5], line 6\u001b[0m\n\u001b[1;32m      3\u001b[0m recursion_limit \u001b[38;5;241m=\u001b[39m sys\u001b[38;5;241m.\u001b[39mgetrecursionlimit()\n\u001b[1;32m      4\u001b[0m \u001b[38;5;28mprint\u001b[39m(\u001b[38;5;124mf\u001b[39m\u001b[38;5;124m\"\u001b[39m\u001b[38;5;124mRecursion limit -> \u001b[39m\u001b[38;5;132;01m{\u001b[39;00mrecursion_limit\u001b[38;5;132;01m}\u001b[39;00m\u001b[38;5;124m\"\u001b[39m)\n\u001b[0;32m----> 6\u001b[0m \u001b[43mcountdown\u001b[49m\u001b[43m(\u001b[49m\u001b[43mrecursion_limit\u001b[49m\u001b[43m \u001b[49m\u001b[38;5;241;43m+\u001b[39;49m\u001b[43m \u001b[49m\u001b[38;5;241;43m1\u001b[39;49m\u001b[43m)\u001b[49m\n",
      "Cell \u001b[0;32mIn[4], line 11\u001b[0m, in \u001b[0;36mcountdown\u001b[0;34m(number)\u001b[0m\n\u001b[1;32m      9\u001b[0m \u001b[38;5;28;01mif\u001b[39;00m number \u001b[38;5;241m<\u001b[39m \u001b[38;5;241m0\u001b[39m:\n\u001b[1;32m     10\u001b[0m     \u001b[38;5;28;01mraise\u001b[39;00m \u001b[38;5;167;01mValueError\u001b[39;00m(\u001b[38;5;124mf\u001b[39m\u001b[38;5;124m\"\u001b[39m\u001b[38;5;132;01m{\u001b[39;00mnumber\u001b[38;5;132;01m}\u001b[39;00m\u001b[38;5;124m < 0\u001b[39m\u001b[38;5;124m\"\u001b[39m)\n\u001b[0;32m---> 11\u001b[0m \u001b[43m_cntd\u001b[49m\u001b[43m(\u001b[49m\u001b[43mnumber\u001b[49m\u001b[43m)\u001b[49m\n",
      "Cell \u001b[0;32mIn[4], line 7\u001b[0m, in \u001b[0;36mcountdown.<locals>._cntd\u001b[0;34m(number)\u001b[0m\n\u001b[1;32m      5\u001b[0m     \u001b[38;5;28mprint\u001b[39m(\u001b[38;5;124m\"\u001b[39m\u001b[38;5;124mover\u001b[39m\u001b[38;5;124m\"\u001b[39m)\n\u001b[1;32m      6\u001b[0m     \u001b[38;5;28;01mreturn\u001b[39;00m\n\u001b[0;32m----> 7\u001b[0m \u001b[43m_cntd\u001b[49m\u001b[43m(\u001b[49m\u001b[43mnumber\u001b[49m\u001b[43m \u001b[49m\u001b[38;5;241;43m-\u001b[39;49m\u001b[43m \u001b[49m\u001b[38;5;241;43m1\u001b[39;49m\u001b[43m)\u001b[49m\n",
      "Cell \u001b[0;32mIn[4], line 7\u001b[0m, in \u001b[0;36mcountdown.<locals>._cntd\u001b[0;34m(number)\u001b[0m\n\u001b[1;32m      5\u001b[0m     \u001b[38;5;28mprint\u001b[39m(\u001b[38;5;124m\"\u001b[39m\u001b[38;5;124mover\u001b[39m\u001b[38;5;124m\"\u001b[39m)\n\u001b[1;32m      6\u001b[0m     \u001b[38;5;28;01mreturn\u001b[39;00m\n\u001b[0;32m----> 7\u001b[0m \u001b[43m_cntd\u001b[49m\u001b[43m(\u001b[49m\u001b[43mnumber\u001b[49m\u001b[43m \u001b[49m\u001b[38;5;241;43m-\u001b[39;49m\u001b[43m \u001b[49m\u001b[38;5;241;43m1\u001b[39;49m\u001b[43m)\u001b[49m\n",
      "    \u001b[0;31m[... skipping similar frames: countdown.<locals>._cntd at line 7 (2969 times)]\u001b[0m\n",
      "Cell \u001b[0;32mIn[4], line 7\u001b[0m, in \u001b[0;36mcountdown.<locals>._cntd\u001b[0;34m(number)\u001b[0m\n\u001b[1;32m      5\u001b[0m     \u001b[38;5;28mprint\u001b[39m(\u001b[38;5;124m\"\u001b[39m\u001b[38;5;124mover\u001b[39m\u001b[38;5;124m\"\u001b[39m)\n\u001b[1;32m      6\u001b[0m     \u001b[38;5;28;01mreturn\u001b[39;00m\n\u001b[0;32m----> 7\u001b[0m \u001b[43m_cntd\u001b[49m\u001b[43m(\u001b[49m\u001b[43mnumber\u001b[49m\u001b[43m \u001b[49m\u001b[38;5;241;43m-\u001b[39;49m\u001b[43m \u001b[49m\u001b[38;5;241;43m1\u001b[39;49m\u001b[43m)\u001b[49m\n",
      "\u001b[0;31mRecursionError\u001b[0m: maximum recursion depth exceeded"
     ]
    }
   ],
   "source": [
    "import sys\n",
    "\n",
    "recursion_limit = sys.getrecursionlimit()\n",
    "print(f\"Recursion limit -> {recursion_limit}\")\n",
    "\n",
    "countdown(recursion_limit + 1)"
   ]
  },
  {
   "cell_type": "markdown",
   "metadata": {},
   "source": [
    "Exactly, the recursion limit on maximum depth with upper-bounds a recursive implementation. Regardless the recursion depth limit can be changed (at least in Python), it's better not to do this cause the system (at least a Python interpreter process) may get corrupted.\n",
    "\n",
    "So, recursive algorithms have limitations and cannot serve as a panacea."
   ]
  },
  {
   "cell_type": "markdown",
   "metadata": {},
   "source": [
    "### Drawbacks"
   ]
  },
  {
   "cell_type": "markdown",
   "metadata": {},
   "source": [
    "Main pitfalls are left behind, but recursion has its price. Let's compare the performance of a recursive and iterative version of computing the factorial of a non-negative integer number."
   ]
  },
  {
   "cell_type": "code",
   "execution_count": 6,
   "metadata": {},
   "outputs": [],
   "source": [
    "def _rec_fact(nbr: int) -> int:\n",
    "    \"\"\"Returns the (nbr)!\"\"\"\n",
    "\n",
    "    if nbr in (0, 1):\n",
    "        return 1\n",
    "    return nbr * _rec_fact(nbr - 1)\n",
    "\n",
    "\n",
    "def factorial_recursive(number: int) -> int:\n",
    "    \"\"\"Returns the factorial of a non-negative integer.\"\"\"\n",
    "\n",
    "    validate_non_negative_integer(number)\n",
    "    return _rec_fact(number)\n",
    "\n",
    "\n",
    "def factorial_iterative(number: int) -> int:\n",
    "    \"\"\"Returns the factorial of a non-negative integer.\"\"\"\n",
    "\n",
    "    validate_non_negative_integer(number)\n",
    "    # making it similar to the recursive implementation above\n",
    "    for nbr in range(number - 1, 2, -1):\n",
    "        number *= nbr"
   ]
  },
  {
   "cell_type": "code",
   "execution_count": 7,
   "metadata": {},
   "outputs": [
    {
     "name": "stdout",
     "output_type": "stream",
     "text": [
      "\u001b[32m.\u001b[0m\u001b[32m.\u001b[0m\u001b[32m.\u001b[0m\u001b[32m.\u001b[0m\u001b[32m.\u001b[0m\u001b[32m.\u001b[0m\u001b[32m                                                                                       [100%]\u001b[0m\n",
      "\u001b[32m\u001b[32m\u001b[1m6 passed\u001b[0m\u001b[32m in 0.04s\u001b[0m\u001b[0m\n"
     ]
    }
   ],
   "source": [
    "%%ipytest\n",
    "\n",
    "@pytest.mark.parametrize(\n",
    "    (\"number\", \"answer\", \"expectation\"),\n",
    "    [\n",
    "        (-1, None, pytest.raises(ValueError)),\n",
    "        (0, 1, does_not_raise()),\n",
    "        (1, 1, does_not_raise()),\n",
    "        (4, 24, does_not_raise()),\n",
    "        (5.0, 120, pytest.raises(TypeError)),\n",
    "        # increase if you dare\n",
    "        (5000, None, pytest.raises(RecursionError)),\n",
    "    ],\n",
    ")\n",
    "def test_factorial(number, answer, expectation):\n",
    "    with expectation:\n",
    "        res_rec = factorial_recursive(number)\n",
    "        res_iter = factorial_iterative(number)\n",
    "        res_rec == res_iter == answer"
   ]
  },
  {
   "cell_type": "markdown",
   "metadata": {},
   "source": [
    "The implementations stand the (unit) tests, but now let's check their performance."
   ]
  },
  {
   "cell_type": "code",
   "execution_count": 8,
   "metadata": {},
   "outputs": [
    {
     "name": "stdout",
     "output_type": "stream",
     "text": [
      "6.55 µs ± 929 ns per loop (mean ± std. dev. of 10 runs, 100,000 loops each)\n",
      "11.4 µs ± 121 ns per loop (mean ± std. dev. of 10 runs, 100,000 loops each)\n"
     ]
    }
   ],
   "source": [
    "%timeit -r 10 factorial_iterative(100)\n",
    "%timeit -r 10 factorial_recursive(100)"
   ]
  },
  {
   "cell_type": "markdown",
   "metadata": {},
   "source": [
    "The recursive implementation is about twice times slower that its iterative competitor, so, the time performance cup goes to the iterative version of the algorithm.\n",
    "\n",
    "Another drawback can be manifested in redundant calls, thereby wasting computing resources. A classic example is a naive implementation of a recursive algorithm for calculating the nth Fibonacci number."
   ]
  },
  {
   "cell_type": "code",
   "execution_count": 9,
   "metadata": {},
   "outputs": [],
   "source": [
    "def fibonacci_recursive(nth: int) -> int:\n",
    "    \"\"\"Returns the nth Fibonacci number.\"\"\"\n",
    "\n",
    "    def _fibrec(nbr: int) -> int:\n",
    "        \"\"\"Actual recursive implementation.\"\"\"\n",
    "\n",
    "        if not nbr:\n",
    "            return 0\n",
    "        if nbr < 3:\n",
    "            return 1\n",
    "        return _fibrec(nbr - 2) + _fibrec(nbr - 1)\n",
    "\n",
    "    validate_non_negative_integer(nth)\n",
    "    return _fibrec(nth)\n",
    "\n",
    "\n",
    "def fibonacci_iterative(nth: int) -> int:\n",
    "    \"\"\"Returns the nth Fibonacci number.\"\"\"\n",
    "\n",
    "    validate_non_negative_integer(nth)\n",
    "    fibcurr, fibnext = 0, 1\n",
    "    for _ in range(nth):\n",
    "        fibcurr, fibnext = fibnext, fibcurr + fibnext\n",
    "    return fibcurr"
   ]
  },
  {
   "cell_type": "code",
   "execution_count": 10,
   "metadata": {},
   "outputs": [
    {
     "name": "stdout",
     "output_type": "stream",
     "text": [
      "\u001b[32m.\u001b[0m\u001b[32m.\u001b[0m\u001b[32m.\u001b[0m\u001b[32m.\u001b[0m\u001b[32m.\u001b[0m\u001b[32m.\u001b[0m\u001b[32m.\u001b[0m\u001b[32m.\u001b[0m\u001b[32m.\u001b[0m\u001b[32m                                                                                    [100%]\u001b[0m\n",
      "\u001b[32m\u001b[32m\u001b[1m9 passed\u001b[0m\u001b[32m in 0.02s\u001b[0m\u001b[0m\n"
     ]
    }
   ],
   "source": [
    "%%ipytest\n",
    "\n",
    "\n",
    "@pytest.mark.parametrize(\n",
    "    (\"number\", \"answer\", \"expectation\"),\n",
    "    [\n",
    "        (-1, None, pytest.raises(ValueError)),\n",
    "        (0, 0, does_not_raise()),\n",
    "        (1, 1, does_not_raise()),\n",
    "        (1.5, None, pytest.raises(TypeError)),\n",
    "        (2, 1, does_not_raise()),\n",
    "        (3, 2, does_not_raise()),\n",
    "        (4, 3, does_not_raise()),\n",
    "        (5, 5, does_not_raise()),\n",
    "        (6, 8, does_not_raise()),\n",
    "    ]\n",
    ")\n",
    "def test_fibonacci(number, answer, expectation):\n",
    "    with expectation:\n",
    "        res_iter = fibonacci_iterative(number)\n",
    "        res_rec = fibonacci_recursive(number)\n",
    "        assert res_iter == res_rec == answer"
   ]
  },
  {
   "cell_type": "markdown",
   "metadata": {},
   "source": [
    "Time for time performance test."
   ]
  },
  {
   "cell_type": "code",
   "execution_count": 11,
   "metadata": {},
   "outputs": [
    {
     "name": "stdout",
     "output_type": "stream",
     "text": [
      "1.26 µs ± 240 ns per loop (mean ± std. dev. of 10 runs, 1,000,000 loops each)\n",
      "8.04 µs ± 49.9 ns per loop (mean ± std. dev. of 10 runs, 100,000 loops each)\n"
     ]
    }
   ],
   "source": [
    "%timeit -r 10 fibonacci_iterative(10)\n",
    "%timeit -r 10 fibonacci_recursive(10)"
   ]
  },
  {
   "cell_type": "markdown",
   "metadata": {},
   "source": [
    "Fantastic, the recusive implementation is as slow as a lazy snail. Welcome to longer computations when increasing the input number. But why so? The following picture may be more illustrative than words:\n",
    "\n",
    "![Fibonacci calls tree](./fibonacci_calls_tree.png)\n",
    "\n",
    "There are redundant calls computing the same values, overhead costs can become unreasonably high. Can you count and group the same calls?\n",
    "\n",
    "There is an optimisation technique called [memoisation](https://www.geeksforgeeks.org/what-is-memoization-a-complete-tutorial/) (not \"memorisation\", no typo at all). Memoisation allows to cache (store) an input value and the output for it. For this purpose you can declare a dictionary and put there inputs-outputs (key, value) pairs."
   ]
  },
  {
   "cell_type": "code",
   "execution_count": 12,
   "metadata": {},
   "outputs": [],
   "source": [
    "MEMO: dict[int, int] = {}\n",
    "\n",
    "\n",
    "# This is a decorating function.\n",
    "# It receives a function as an input\n",
    "# and returns another function.\n",
    "# This is Decorator pattern in use.\n",
    "def cache(func: Callable) -> Callable:\n",
    "    \"\"\"Caching decorator.\"\"\"\n",
    "\n",
    "    def _wrapper(number: int) -> int:\n",
    "        if number in MEMO:\n",
    "            return MEMO[number]\n",
    "        res = func(number)\n",
    "        MEMO[number] = res  # caching\n",
    "        return res\n",
    "    \n",
    "    return _wrapper\n",
    "\n",
    "\n",
    "@cache\n",
    "def fibonacci_recursive_2(nth: int) -> int:\n",
    "    \"\"\"Returns the nth Fibonacci number.\"\"\"\n",
    "\n",
    "    def _fibrec(nbr: int) -> int:\n",
    "        \"\"\"Actual recursive implementation.\"\"\"\n",
    "\n",
    "        if not nbr:\n",
    "            return 0\n",
    "        if nbr < 3:\n",
    "            return 1\n",
    "        return _fibrec(nbr - 2) + _fibrec(nbr - 1)\n",
    "\n",
    "    validate_non_negative_integer(nth)\n",
    "    return _fibrec(nth)"
   ]
  },
  {
   "cell_type": "markdown",
   "metadata": {},
   "source": [
    "The Red Letter Day..."
   ]
  },
  {
   "cell_type": "code",
   "execution_count": 13,
   "metadata": {},
   "outputs": [
    {
     "name": "stdout",
     "output_type": "stream",
     "text": [
      "1.26 µs ± 244 ns per loop (mean ± std. dev. of 10 runs, 1,000,000 loops each)\n",
      "627 ns ± 3.81 ns per loop (mean ± std. dev. of 10 runs, 1,000,000 loops each)\n"
     ]
    }
   ],
   "source": [
    "%timeit -r 10 fibonacci_iterative(10)\n",
    "%timeit -r 10 fibonacci_recursive_2(10)"
   ]
  },
  {
   "cell_type": "markdown",
   "metadata": {},
   "source": [
    "Wow, the memoised recursive version became faster than the iterative version. Can these results be trusted? Let's memoise the iterative version and make sure that the order of times is aligned to the expected values."
   ]
  },
  {
   "cell_type": "code",
   "execution_count": 14,
   "metadata": {},
   "outputs": [
    {
     "name": "stdout",
     "output_type": "stream",
     "text": [
      "830 ns ± 131 ns per loop (mean ± std. dev. of 10 runs, 1,000,000 loops each)\n",
      "617 ns ± 3.17 ns per loop (mean ± std. dev. of 10 runs, 1,000,000 loops each)\n"
     ]
    }
   ],
   "source": [
    "@cache\n",
    "def fibonacci_iterative_2(nth: int) -> int:\n",
    "    \"\"\"Returns the nth Fibonacci number.\"\"\"\n",
    "\n",
    "    validate_non_negative_integer(nth)\n",
    "    fibcurr, fibnext = 0, 1\n",
    "    for _ in range(nth):\n",
    "        fibcurr, fibnext = fibnext, fibcurr + fibnext\n",
    "    return fibcurr\n",
    "\n",
    "\n",
    "%timeit -r 10 fibonacci_iterative_2(10)\n",
    "%timeit -r 10 fibonacci_recursive_2(10)"
   ]
  },
  {
   "cell_type": "markdown",
   "metadata": {},
   "source": [
    "Now the results are of the same order, which means that outputs are retrieved from the cache, not computed every time the function is invoked.\n",
    "\n",
    "Can you answer whether it is reasonable to memoise functions all the times? Maybe only recursive functions? What is the price of memoisation?"
   ]
  },
  {
   "cell_type": "markdown",
   "metadata": {},
   "source": [
    "### Workshop\n",
    "\n",
    "Although pitfalls and drawbacks of recursion are present, they should not turn you away from recursion - not everything is so clear for final conclusions, so now we keep learning.\n",
    "\n",
    "1. detecting palyndromes\n",
    "\n",
    "2. raising the number a to the power of b\n",
    "\n",
    "3. linear and binary search of an item in a sequence\n",
    "\n",
    "Here an attempt will be made to touch on the rudiments of calculating the computational complexity of algorithms, but rather on the fingers without mathematically rigorous justification."
   ]
  },
  {
   "cell_type": "markdown",
   "metadata": {},
   "source": [
    "#### Detecting palindromes\n",
    "\n",
    "A [palindrome](https://www.merriam-webster.com/dictionary/palindrome) is such a sequence that, being reversed, is equal to original one. For example, \"abcba\" is a palyndrome because its reverse is \"abcba\" again.\n",
    "\n",
    "1. base cases - an empty sequence or a sequence with one item are already palindromic. There is no less sequence that the empty one, so no need for extra validation;\n",
    "\n",
    "2. he original sequence should be reduced successfully for each recursive step to bring the recursion to base cases eventually"
   ]
  },
  {
   "cell_type": "code",
   "execution_count": 16,
   "metadata": {},
   "outputs": [],
   "source": [
    "\"\"\"Detects if a sequence is palindromic.\"\"\"\n",
    "\n",
    "\n",
    "from typing import Sequence\n",
    "\n",
    "\n",
    "def is_palindrome_recursive(seq: Sequence) -> bool:\n",
    "    \"\"\"Returns True if the sequence is a palindrome.\n",
    "\n",
    "    Parameters\n",
    "    ----------\n",
    "    seq : Sequence\n",
    "\n",
    "    Returns\n",
    "    -------\n",
    "    bool\n",
    "    \"\"\"\n",
    "\n",
    "    if len(seq) < 2:\n",
    "        return True\n",
    "    if seq[0] != seq[-1]:\n",
    "        return False\n",
    "    return is_palindrome_recursive(seq[1:-1])\n",
    "\n",
    "\n",
    "def is_palindrome_iterative(seq: Sequence) -> bool:\n",
    "    \"\"\"Returns True if the sequence is a palindrome.\n",
    "\n",
    "    Parameters\n",
    "    ----------\n",
    "    seq : Sequence\n",
    "\n",
    "    Returns\n",
    "    -------\n",
    "    bool\n",
    "    \"\"\"\n",
    "\n",
    "    length: int = len(seq)\n",
    "    if length < 2:\n",
    "        return True\n",
    "    for index in range(length // 2):\n",
    "        if seq[index] != seq[-(index + 1)]:\n",
    "            return False\n",
    "    return True\n"
   ]
  },
  {
   "cell_type": "code",
   "execution_count": 17,
   "metadata": {},
   "outputs": [
    {
     "name": "stdout",
     "output_type": "stream",
     "text": [
      "\u001b[32m.\u001b[0m\u001b[32m.\u001b[0m\u001b[32m.\u001b[0m"
     ]
    },
    {
     "name": "stdout",
     "output_type": "stream",
     "text": [
      "\u001b[32m.\u001b[0m\u001b[32m.\u001b[0m\u001b[32m.\u001b[0m\u001b[32m                                                                                       [100%]\u001b[0m\n",
      "\u001b[32m\u001b[32m\u001b[1m6 passed\u001b[0m\u001b[32m in 0.02s\u001b[0m\u001b[0m\n"
     ]
    }
   ],
   "source": [
    "%%ipytest\n",
    "\n",
    "\n",
    "@pytest.mark.parametrize(\n",
    "    (\"seq\", \"answer\"),\n",
    "    [\n",
    "        ([], True),\n",
    "        ({1}, True),\n",
    "        ((1, 2), False),\n",
    "        ((3, 3), True),\n",
    "        (\"abc\", False),\n",
    "        (\"aBa\", True),\n",
    "    ]\n",
    ")\n",
    "def test_palindrome(seq, answer):\n",
    "    res_iter = is_palindrome_iterative(seq)\n",
    "    res_rec = is_palindrome_recursive(seq)\n",
    "    assert res_iter == res_rec == answer"
   ]
  },
  {
   "cell_type": "markdown",
   "metadata": {},
   "source": [
    "There is an attempt to optimise the algorithm by comparing edge elements, so less steps to take. Nevertheless, the recursive implementation is not optimal enough for each recursive step does copying sequence (slice operator) increasing the overhead. Can you optimise this and get rid of copying?"
   ]
  },
  {
   "cell_type": "markdown",
   "metadata": {},
   "source": [
    "### References\n",
    "\n",
    "- [Recursion Explained](https://tozturk.hashnode.dev/recursion-explained-breaking-down-the-core-concepts-benefits-and-drawbacks-of-using-recursive-functions)\n",
    "\n",
    "- [IBM -> Mastering recursive programming](https://developer.ibm.com/articles/l-recurs/)\n",
    "\n",
    "- [JakeVDP: Timing and Profiling](https://jakevdp.github.io/PythonDataScienceHandbook/01.07-timing-and-profiling.html)\n",
    "\n",
    "- [PyNash: Timing and Profiling](https://pynash.org/2013/03/06/timing-and-profiling/)\n",
    "\n",
    "- [Free Code Camp -> Memoisation](https://www.freecodecamp.org/news/memoization-in-javascript-and-react/)"
   ]
  },
  {
   "cell_type": "markdown",
   "metadata": {},
   "source": []
  }
 ],
 "metadata": {
  "kernelspec": {
   "display_name": "Python 3",
   "language": "python",
   "name": "python3"
  },
  "language_info": {
   "codemirror_mode": {
    "name": "ipython",
    "version": 3
   },
   "file_extension": ".py",
   "mimetype": "text/x-python",
   "name": "python",
   "nbconvert_exporter": "python",
   "pygments_lexer": "ipython3",
   "version": "3.10.12"
  }
 },
 "nbformat": 4,
 "nbformat_minor": 2
}
